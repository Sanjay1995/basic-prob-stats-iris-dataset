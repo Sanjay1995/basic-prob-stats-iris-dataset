{
 "cells": [
  {
   "cell_type": "markdown",
   "metadata": {
    "collapsed": true
   },
   "source": [
    "## Goal\n",
    "\n",
    "is to implement and refresh the multivariate concepts.\n",
    "\n",
    "**Note** allowed to use *numpy and scipy* to complete the tasks."
   ]
  },
  {
   "cell_type": "markdown",
   "metadata": {},
   "source": [
    "**So Lets Start**"
   ]
  },
  {
   "cell_type": "code",
   "execution_count": 131,
   "metadata": {
    "collapsed": false
   },
   "outputs": [
    {
     "name": "stdout",
     "output_type": "stream",
     "text": [
      "Populating the interactive namespace from numpy and matplotlib\n"
     ]
    },
    {
     "name": "stderr",
     "output_type": "stream",
     "text": [
      "WARNING: pylab import has clobbered these variables: ['cov', 'exp']\n",
      "`%matplotlib` prevents importing * from pylab and numpy\n"
     ]
    }
   ],
   "source": [
    "# magic command to include all the necessary libraries\n",
    "%pylab inline "
   ]
  },
  {
   "cell_type": "code",
   "execution_count": 132,
   "metadata": {
    "collapsed": false,
    "run_control": {
     "breakpoint": false
    }
   },
   "outputs": [
    {
     "name": "stdout",
     "output_type": "stream",
     "text": [
      "--2017-02-22 18:59:40--  http://archive.ics.uci.edu/ml/machine-learning-databases/iris/iris.data\n",
      "Resolving archive.ics.uci.edu (archive.ics.uci.edu)... 128.195.10.249\n",
      "Connecting to archive.ics.uci.edu (archive.ics.uci.edu)|128.195.10.249|:80... connected.\n",
      "HTTP request sent, awaiting response... 200 OK\n",
      "Length: 4551 (4.4K) [text/plain]\n",
      "Saving to: ‘iris.data.1’\n",
      "\n",
      "iris.data.1         100%[===================>]   4.44K  --.-KB/s    in 0.01s   \n",
      "\n",
      "2017-02-22 18:59:41 (377 KB/s) - ‘iris.data.1’ saved [4551/4551]\n",
      "\n"
     ]
    }
   ],
   "source": [
    "#Download the IRIS dataset\n",
    "#\"!\" means run the bash (shell) command\n",
    "!wget http://archive.ics.uci.edu/ml/machine-learning-databases/iris/iris.data"
   ]
  },
  {
   "cell_type": "code",
   "execution_count": 133,
   "metadata": {
    "collapsed": false,
    "run_control": {
     "breakpoint": false
    }
   },
   "outputs": [],
   "source": [
    "#import pandas and name this namespace as pd\n",
    "import pandas as pd"
   ]
  },
  {
   "cell_type": "code",
   "execution_count": 134,
   "metadata": {
    "collapsed": false,
    "run_control": {
     "breakpoint": false
    }
   },
   "outputs": [
    {
     "name": "stdout",
     "output_type": "stream",
     "text": [
      "       SepalLength  SepalWidth  PetalLength  PetalWidth\n",
      "count   149.000000  149.000000   149.000000  149.000000\n",
      "mean      5.848322    3.051007     3.774497    1.205369\n",
      "std       0.828594    0.433499     1.759651    0.761292\n",
      "min       4.300000    2.000000     1.000000    0.100000\n",
      "25%       5.100000    2.800000     1.600000    0.300000\n",
      "50%       5.800000    3.000000     4.400000    1.300000\n",
      "75%       6.400000    3.300000     5.100000    1.800000\n",
      "max       7.900000    4.400000     6.900000    2.500000\n"
     ]
    }
   ],
   "source": [
    "#Load data and name the columns\n",
    "data=pd.read_csv('iris.data')\n",
    "data.columns=['SepalLength','SepalWidth','PetalLength','PetalWidth','Class']\n",
    "print data.describe()"
   ]
  },
  {
   "cell_type": "code",
   "execution_count": 135,
   "metadata": {
    "collapsed": false,
    "run_control": {
     "breakpoint": false
    },
    "scrolled": true
   },
   "outputs": [
    {
     "name": "stdout",
     "output_type": "stream",
     "text": [
      "PetalLength= [1.3999999999999999, 1.3, 1.5, 1.3999999999999999, 1.7, 1.3999999999999999, 1.5, 1.3999999999999999, 1.5, 1.5, 1.6000000000000001, 1.3999999999999999, 1.1000000000000001, 1.2, 1.5, 1.3, 1.3999999999999999, 1.7, 1.5, 1.7, 1.5, 1.0, 1.7, 1.8999999999999999, 1.6000000000000001, 1.6000000000000001, 1.5, 1.3999999999999999, 1.6000000000000001, 1.6000000000000001, 1.5, 1.5, 1.3999999999999999, 1.5, 1.2, 1.3, 1.5, 1.3, 1.5, 1.3, 1.3, 1.3, 1.6000000000000001, 1.8999999999999999, 1.3999999999999999, 1.6000000000000001, 1.3999999999999999, 1.5, 1.3999999999999999, 4.7000000000000002, 4.5, 4.9000000000000004, 4.0, 4.5999999999999996, 4.5, 4.7000000000000002, 3.2999999999999998, 4.5999999999999996, 3.8999999999999999, 3.5, 4.2000000000000002, 4.0, 4.7000000000000002, 3.6000000000000001, 4.4000000000000004, 4.5, 4.0999999999999996, 4.5, 3.8999999999999999, 4.7999999999999998, 4.0, 4.9000000000000004, 4.7000000000000002, 4.2999999999999998, 4.4000000000000004, 4.7999999999999998, 5.0, 4.5, 3.5, 3.7999999999999998, 3.7000000000000002, 3.8999999999999999, 5.0999999999999996, 4.5, 4.5, 4.7000000000000002, 4.4000000000000004, 4.0999999999999996, 4.0, 4.4000000000000004, 4.5999999999999996, 4.0, 3.2999999999999998, 4.2000000000000002, 4.2000000000000002, 4.2000000000000002, 4.2999999999999998, 3.0, 4.0999999999999996, 6.0, 5.0999999999999996, 5.9000000000000004, 5.5999999999999996, 5.7999999999999998, 6.5999999999999996, 4.5, 6.2999999999999998, 5.7999999999999998, 6.0999999999999996, 5.0999999999999996, 5.2999999999999998, 5.5, 5.0, 5.0999999999999996, 5.2999999999999998, 5.5, 6.7000000000000002, 6.9000000000000004, 5.0, 5.7000000000000002, 4.9000000000000004, 6.7000000000000002, 4.9000000000000004, 5.7000000000000002, 6.0, 4.7999999999999998, 4.9000000000000004, 5.5999999999999996, 5.7999999999999998, 6.0999999999999996, 6.4000000000000004, 5.5999999999999996, 5.0999999999999996, 5.5999999999999996, 6.0999999999999996, 5.5999999999999996, 5.5, 4.7999999999999998, 5.4000000000000004, 5.5999999999999996, 5.0999999999999996, 5.0999999999999996, 5.9000000000000004, 5.7000000000000002, 5.2000000000000002, 5.0, 5.2000000000000002, 5.4000000000000004, 5.0999999999999996]\n",
      "PetalWidth= [0.20000000000000001, 0.20000000000000001, 0.20000000000000001, 0.20000000000000001, 0.40000000000000002, 0.29999999999999999, 0.20000000000000001, 0.20000000000000001, 0.10000000000000001, 0.20000000000000001, 0.20000000000000001, 0.10000000000000001, 0.10000000000000001, 0.20000000000000001, 0.40000000000000002, 0.40000000000000002, 0.29999999999999999, 0.29999999999999999, 0.29999999999999999, 0.20000000000000001, 0.40000000000000002, 0.20000000000000001, 0.5, 0.20000000000000001, 0.20000000000000001, 0.40000000000000002, 0.20000000000000001, 0.20000000000000001, 0.20000000000000001, 0.20000000000000001, 0.40000000000000002, 0.10000000000000001, 0.20000000000000001, 0.10000000000000001, 0.20000000000000001, 0.20000000000000001, 0.10000000000000001, 0.20000000000000001, 0.20000000000000001, 0.29999999999999999, 0.29999999999999999, 0.20000000000000001, 0.59999999999999998, 0.40000000000000002, 0.29999999999999999, 0.20000000000000001, 0.20000000000000001, 0.20000000000000001, 0.20000000000000001, 1.3999999999999999, 1.5, 1.5, 1.3, 1.5, 1.3, 1.6000000000000001, 1.0, 1.3, 1.3999999999999999, 1.0, 1.5, 1.0, 1.3999999999999999, 1.3, 1.3999999999999999, 1.5, 1.0, 1.5, 1.1000000000000001, 1.8, 1.3, 1.5, 1.2, 1.3, 1.3999999999999999, 1.3999999999999999, 1.7, 1.5, 1.0, 1.1000000000000001, 1.0, 1.2, 1.6000000000000001, 1.5, 1.6000000000000001, 1.5, 1.3, 1.3, 1.3, 1.2, 1.3999999999999999, 1.2, 1.0, 1.3, 1.2, 1.3, 1.3, 1.1000000000000001, 1.3, 2.5, 1.8999999999999999, 2.1000000000000001, 1.8, 2.2000000000000002, 2.1000000000000001, 1.7, 1.8, 1.8, 2.5, 2.0, 1.8999999999999999, 2.1000000000000001, 2.0, 2.3999999999999999, 2.2999999999999998, 1.8, 2.2000000000000002, 2.2999999999999998, 1.5, 2.2999999999999998, 2.0, 2.0, 1.8, 2.1000000000000001, 1.8, 1.8, 1.8, 2.1000000000000001, 1.6000000000000001, 1.8999999999999999, 2.0, 2.2000000000000002, 1.5, 1.3999999999999999, 2.2999999999999998, 2.3999999999999999, 1.8, 1.8, 2.1000000000000001, 2.3999999999999999, 2.2999999999999998, 1.8999999999999999, 2.2999999999999998, 2.5, 2.2999999999999998, 1.8999999999999999, 2.0, 2.2999999999999998, 1.8]\n"
     ]
    }
   ],
   "source": [
    "#Code for generating data....\n",
    "datalist=[] #create an empty list\n",
    "# data list is a list of two elements, where index=0 contains data corresponding to petal \n",
    "# length and index=1 contains data corresponding to petal width\n",
    "datalist.append(list(data['PetalLength'].dropna()))\n",
    "datalist.append(list(data['PetalWidth'].dropna()))\n",
    "datalist.append(list(data['SepalLength'].dropna()))\n",
    "datalist.append(list(data['SepalWidth'].dropna()))\n",
    "\n",
    "classlist=[] #create an empty list\n",
    "# data list is a list of two elements, where index=0 contains data corresponding to petal \n",
    "# length and index=1 contains data corresponding to petal width\n",
    "classlist.append(list(data['PetalLength'].dropna()))\n",
    "classlist.append(list(data['PetalWidth'].dropna()))\n",
    "classlist.append(list(data['SepalLength'].dropna()))\n",
    "classlist.append(list(data['SepalWidth'].dropna()))\n",
    "classlist.append(list(data['Class'].dropna()))\n",
    "\n",
    "#If you want you build a numpy array from this list.\n",
    "\n",
    "\n",
    "print \"PetalLength=\", datalist[0]\n",
    "print \"PetalWidth=\", datalist[1]\n",
    "\n",
    "#This and above code are both same...\n",
    "# datalist=[0]*2#create a list of 2 elements\n",
    "# datalist[0]=(list(data['PetalLength'].dropna()))\n",
    "# datalist[1]=(list(data['PetalWidth'].dropna()))\n",
    "#data list is a list of two elements, where index=0 contains data corresponding to petal \n",
    "# length and index=1 contains data corresponding to petal width\n",
    "# print(\"PetalLength=\", datalist[0])\n",
    "# print(\"PetalWidth=\", datalist[1])"
   ]
  },
  {
   "cell_type": "markdown",
   "metadata": {},
   "source": [
    "*In all the tasks given below use the list variable `datalist` (defined above) to answer all the questions.*\n",
    "\n",
    "#### Task1\n",
    "----------------\n",
    "Lets model the petal length and width as continuous random variable $X=(x_1,x_2)$. Find the empirical mean of this random variable. Here $x_1$ specifies the petal length and $x_2$ its width."
   ]
  },
  {
   "cell_type": "code",
   "execution_count": 136,
   "metadata": {
    "collapsed": false,
    "run_control": {
     "breakpoint": false
    }
   },
   "outputs": [
    {
     "name": "stdout",
     "output_type": "stream",
     "text": [
      "[[ 1.4  0.2]\n",
      " [ 1.3  0.2]\n",
      " [ 1.5  0.2]\n",
      " [ 1.4  0.2]\n",
      " [ 1.7  0.4]\n",
      " [ 1.4  0.3]\n",
      " [ 1.5  0.2]\n",
      " [ 1.4  0.2]\n",
      " [ 1.5  0.1]\n",
      " [ 1.5  0.2]\n",
      " [ 1.6  0.2]\n",
      " [ 1.4  0.1]\n",
      " [ 1.1  0.1]\n",
      " [ 1.2  0.2]\n",
      " [ 1.5  0.4]\n",
      " [ 1.3  0.4]\n",
      " [ 1.4  0.3]\n",
      " [ 1.7  0.3]\n",
      " [ 1.5  0.3]\n",
      " [ 1.7  0.2]\n",
      " [ 1.5  0.4]\n",
      " [ 1.   0.2]\n",
      " [ 1.7  0.5]\n",
      " [ 1.9  0.2]\n",
      " [ 1.6  0.2]\n",
      " [ 1.6  0.4]\n",
      " [ 1.5  0.2]\n",
      " [ 1.4  0.2]\n",
      " [ 1.6  0.2]\n",
      " [ 1.6  0.2]\n",
      " [ 1.5  0.4]\n",
      " [ 1.5  0.1]\n",
      " [ 1.4  0.2]\n",
      " [ 1.5  0.1]\n",
      " [ 1.2  0.2]\n",
      " [ 1.3  0.2]\n",
      " [ 1.5  0.1]\n",
      " [ 1.3  0.2]\n",
      " [ 1.5  0.2]\n",
      " [ 1.3  0.3]\n",
      " [ 1.3  0.3]\n",
      " [ 1.3  0.2]\n",
      " [ 1.6  0.6]\n",
      " [ 1.9  0.4]\n",
      " [ 1.4  0.3]\n",
      " [ 1.6  0.2]\n",
      " [ 1.4  0.2]\n",
      " [ 1.5  0.2]\n",
      " [ 1.4  0.2]\n",
      " [ 4.7  1.4]\n",
      " [ 4.5  1.5]\n",
      " [ 4.9  1.5]\n",
      " [ 4.   1.3]\n",
      " [ 4.6  1.5]\n",
      " [ 4.5  1.3]\n",
      " [ 4.7  1.6]\n",
      " [ 3.3  1. ]\n",
      " [ 4.6  1.3]\n",
      " [ 3.9  1.4]\n",
      " [ 3.5  1. ]\n",
      " [ 4.2  1.5]\n",
      " [ 4.   1. ]\n",
      " [ 4.7  1.4]\n",
      " [ 3.6  1.3]\n",
      " [ 4.4  1.4]\n",
      " [ 4.5  1.5]\n",
      " [ 4.1  1. ]\n",
      " [ 4.5  1.5]\n",
      " [ 3.9  1.1]\n",
      " [ 4.8  1.8]\n",
      " [ 4.   1.3]\n",
      " [ 4.9  1.5]\n",
      " [ 4.7  1.2]\n",
      " [ 4.3  1.3]\n",
      " [ 4.4  1.4]\n",
      " [ 4.8  1.4]\n",
      " [ 5.   1.7]\n",
      " [ 4.5  1.5]\n",
      " [ 3.5  1. ]\n",
      " [ 3.8  1.1]\n",
      " [ 3.7  1. ]\n",
      " [ 3.9  1.2]\n",
      " [ 5.1  1.6]\n",
      " [ 4.5  1.5]\n",
      " [ 4.5  1.6]\n",
      " [ 4.7  1.5]\n",
      " [ 4.4  1.3]\n",
      " [ 4.1  1.3]\n",
      " [ 4.   1.3]\n",
      " [ 4.4  1.2]\n",
      " [ 4.6  1.4]\n",
      " [ 4.   1.2]\n",
      " [ 3.3  1. ]\n",
      " [ 4.2  1.3]\n",
      " [ 4.2  1.2]\n",
      " [ 4.2  1.3]\n",
      " [ 4.3  1.3]\n",
      " [ 3.   1.1]\n",
      " [ 4.1  1.3]\n",
      " [ 6.   2.5]\n",
      " [ 5.1  1.9]\n",
      " [ 5.9  2.1]\n",
      " [ 5.6  1.8]\n",
      " [ 5.8  2.2]\n",
      " [ 6.6  2.1]\n",
      " [ 4.5  1.7]\n",
      " [ 6.3  1.8]\n",
      " [ 5.8  1.8]\n",
      " [ 6.1  2.5]\n",
      " [ 5.1  2. ]\n",
      " [ 5.3  1.9]\n",
      " [ 5.5  2.1]\n",
      " [ 5.   2. ]\n",
      " [ 5.1  2.4]\n",
      " [ 5.3  2.3]\n",
      " [ 5.5  1.8]\n",
      " [ 6.7  2.2]\n",
      " [ 6.9  2.3]\n",
      " [ 5.   1.5]\n",
      " [ 5.7  2.3]\n",
      " [ 4.9  2. ]\n",
      " [ 6.7  2. ]\n",
      " [ 4.9  1.8]\n",
      " [ 5.7  2.1]\n",
      " [ 6.   1.8]\n",
      " [ 4.8  1.8]\n",
      " [ 4.9  1.8]\n",
      " [ 5.6  2.1]\n",
      " [ 5.8  1.6]\n",
      " [ 6.1  1.9]\n",
      " [ 6.4  2. ]\n",
      " [ 5.6  2.2]\n",
      " [ 5.1  1.5]\n",
      " [ 5.6  1.4]\n",
      " [ 6.1  2.3]\n",
      " [ 5.6  2.4]\n",
      " [ 5.5  1.8]\n",
      " [ 4.8  1.8]\n",
      " [ 5.4  2.1]\n",
      " [ 5.6  2.4]\n",
      " [ 5.1  2.3]\n",
      " [ 5.1  1.9]\n",
      " [ 5.9  2.3]\n",
      " [ 5.7  2.5]\n",
      " [ 5.2  2.3]\n",
      " [ 5.   1.9]\n",
      " [ 5.2  2. ]\n",
      " [ 5.4  2.3]\n",
      " [ 5.1  1.8]]\n",
      "mean: [ 3.77449664  1.20536913  5.84832215  3.05100671]\n"
     ]
    }
   ],
   "source": [
    "#Write your code here\n",
    "data= np.array(datalist).T\n",
    "print data[:,0:2]\n",
    "print 'mean:', np.mean(data,axis=0)"
   ]
  },
  {
   "cell_type": "markdown",
   "metadata": {},
   "source": [
    "#### Task2\n",
    "----------------\n",
    "Compute the covariance matrix $X$ using outper product formula, i.e. $\\Sigma=\\frac{1}{n}Z^T\\;Z$, where $Z$ is centered data matrix (mean = 0)"
   ]
  },
  {
   "cell_type": "code",
   "execution_count": 137,
   "metadata": {
    "collapsed": false,
    "run_control": {
     "breakpoint": false
    }
   },
   "outputs": [
    {
     "name": "stdout",
     "output_type": "stream",
     "text": [
      "covariance for all features: \n",
      "[[ 3.07559119  1.2804725   1.2618364  -0.3146052 ]\n",
      " [ 1.2804725   0.57567587  0.5118882  -0.11497185]\n",
      " [ 1.2618364   0.5118882   0.68196027 -0.03702851]\n",
      " [-0.3146052  -0.11497185 -0.03702851  0.18666006]]\n",
      "\n",
      "\n",
      "covariance for petal length and width: \n",
      "[[ 3.07559119  1.2804725 ]\n",
      " [ 1.2804725   0.57567587]]\n"
     ]
    }
   ],
   "source": [
    "#Write your code here\n",
    "Z= np.array(datalist)\n",
    "Z=Z.T\n",
    "m= np.mean(Z,axis=0)\n",
    "Z= Z - m\n",
    "n=Z.shape[0]\n",
    "\n",
    "sigma= (float(1)/n) * np.dot(Z.T,Z)\n",
    "\n",
    "print'covariance for all features: ' \n",
    "print sigma\n",
    "print \n",
    "print \n",
    "\n",
    "X= Z[:,0:2]\n",
    "m=np.mean(X,axis=0)\n",
    "X=X-m\n",
    "sigma= (float(1)/n) * np.dot(X.T,X)\n",
    "print'covariance for petal length and width: '\n",
    "print sigma\n"
   ]
  },
  {
   "cell_type": "markdown",
   "metadata": {},
   "source": [
    "#### Task3: Multivariate Gaussian\n",
    "----------------\n",
    "Let's model $X$ with multivariate Gaussian. Find the probability of having flowers with petal width and height in the following range $P(3.5 < x_1 < 3.7,5.5 < x_2 <5.6)$.\n",
    "Recall that \n",
    "$$f_{\\mathbf x}(x_1,\\ldots,x_k) = \\frac{1}{\\sqrt{(2\\pi)^k|\\boldsymbol\\Sigma|}} \\exp\\left(-\\frac{1}{2}({\\mathbf x}-{\\boldsymbol\\mu})^\\mathrm{T}{\\boldsymbol\\Sigma}^{-1}({\\mathbf x}-{\\boldsymbol\\mu}) \\right)$$\n",
    "\n",
    "where ${\\mathbf x}$ is a real k-dimensional column vector and $|\\boldsymbol\\Sigma|$ is the determinant of $\\boldsymbol\\Sigma$. For our this case $k=2$ "
   ]
  },
  {
   "cell_type": "code",
   "execution_count": 138,
   "metadata": {
    "collapsed": false,
    "run_control": {
     "breakpoint": false
    }
   },
   "outputs": [
    {
     "name": "stdout",
     "output_type": "stream",
     "text": [
      "Prob:  9.17308727449e-12\n"
     ]
    }
   ],
   "source": [
    "#Write your code here, you are not allowed to use scipy and numpy function here... \n",
    "import math\n",
    "    \n",
    "sigdet= (sigma[0,0]*sigma[0,0] - sigma[1,0]*sigma[0,1])\n",
    "\n",
    "area=0\n",
    "for x in arange(3.5,3.7,0.01):\n",
    "    for y in arange(5.5,5.6,0.01):\n",
    "        t=np.array([y, x])\n",
    "        temp= 1/(((2*math.pi)**2) * sigdet)** 0.5\n",
    "        ex=math.exp(-0.5*np.dot(np.dot( (t-m).T , inv(sigma) ) ,t-m ))\n",
    "        f=temp*ex\n",
    "        area+=0.01*f\n",
    "\n",
    "print 'Prob: ', area\n",
    "        "
   ]
  },
  {
   "cell_type": "code",
   "execution_count": 139,
   "metadata": {
    "collapsed": true
   },
   "outputs": [],
   "source": [
    "#Now go and use the function to find the pdf value and compares these newly computed value\n",
    "#with the earlier value and compute the difference...\n",
    "scipy.stats.multivariate_normal()"
   ]
  },
  {
   "cell_type": "markdown",
   "metadata": {},
   "source": [
    "#### Task4: Multivariate Gaussian\n",
    "\n",
    "Now consider that both the attributes are statistically independent and normally distributed then what will be the probability of $P(3.5 < x_1 < 3.7,5.5 < x_2 <5.6)$\n"
   ]
  },
  {
   "cell_type": "code",
   "execution_count": 140,
   "metadata": {
    "collapsed": false,
    "run_control": {
     "breakpoint": false
    }
   },
   "outputs": [
    {
     "data": {
      "text/plain": [
       "array([[ 0.0909635 ,  0.21855244],\n",
       "       [ 0.08406817,  0.21855244],\n",
       "       [ 0.09810489,  0.21855244],\n",
       "       [ 0.0909635 ,  0.21855244],\n",
       "       [ 0.11300597,  0.29933618],\n",
       "       [ 0.0909635 ,  0.2580058 ],\n",
       "       [ 0.09810489,  0.21855244],\n",
       "       [ 0.0909635 ,  0.21855244],\n",
       "       [ 0.09810489,  0.18194402],\n",
       "       [ 0.09810489,  0.21855244],\n",
       "       [ 0.10546347,  0.21855244],\n",
       "       [ 0.0909635 ,  0.18194402],\n",
       "       [ 0.07110896,  0.18194402],\n",
       "       [ 0.07744333,  0.21855244],\n",
       "       [ 0.09810489,  0.29933618],\n",
       "       [ 0.08406817,  0.29933618],\n",
       "       [ 0.0909635 ,  0.2580058 ],\n",
       "       [ 0.11300597,  0.2580058 ],\n",
       "       [ 0.09810489,  0.2580058 ],\n",
       "       [ 0.11300597,  0.21855244],\n",
       "       [ 0.09810489,  0.29933618],\n",
       "       [ 0.06508075,  0.21855244],\n",
       "       [ 0.11300597,  0.34130674],\n",
       "       [ 0.12848839,  0.21855244],\n",
       "       [ 0.10546347,  0.21855244],\n",
       "       [ 0.10546347,  0.29933618],\n",
       "       [ 0.09810489,  0.21855244],\n",
       "       [ 0.0909635 ,  0.21855244],\n",
       "       [ 0.10546347,  0.21855244],\n",
       "       [ 0.10546347,  0.21855244],\n",
       "       [ 0.09810489,  0.29933618],\n",
       "       [ 0.09810489,  0.18194402],\n",
       "       [ 0.0909635 ,  0.21855244],\n",
       "       [ 0.09810489,  0.18194402],\n",
       "       [ 0.07744333,  0.21855244],\n",
       "       [ 0.08406817,  0.21855244],\n",
       "       [ 0.09810489,  0.18194402],\n",
       "       [ 0.08406817,  0.21855244],\n",
       "       [ 0.09810489,  0.21855244],\n",
       "       [ 0.08406817,  0.2580058 ],\n",
       "       [ 0.08406817,  0.2580058 ],\n",
       "       [ 0.08406817,  0.21855244],\n",
       "       [ 0.10546347,  0.38246036],\n",
       "       [ 0.12848839,  0.29933618],\n",
       "       [ 0.0909635 ,  0.2580058 ],\n",
       "       [ 0.10546347,  0.21855244],\n",
       "       [ 0.0909635 ,  0.21855244],\n",
       "       [ 0.09810489,  0.21855244],\n",
       "       [ 0.0909635 ,  0.21855244],\n",
       "       [ 0.19791101,  0.50878245],\n",
       "       [ 0.20882539,  0.48761491],\n",
       "       [ 0.18514344,  0.48761491],\n",
       "       [ 0.2256085 ,  0.52172685],\n",
       "       [ 0.20362573,  0.48761491],\n",
       "       [ 0.20882539,  0.52172685],\n",
       "       [ 0.19791101,  0.45928022],\n",
       "       [ 0.21930554,  0.50688789],\n",
       "       [ 0.20362573,  0.52172685],\n",
       "       [ 0.22689957,  0.50878245],\n",
       "       [ 0.22471181,  0.50688789],\n",
       "       [ 0.22088326,  0.48761491],\n",
       "       [ 0.2256085 ,  0.50688789],\n",
       "       [ 0.19791101,  0.50878245],\n",
       "       [ 0.22635805,  0.52172685],\n",
       "       [ 0.21346263,  0.50878245],\n",
       "       [ 0.20882539,  0.48761491],\n",
       "       [ 0.22359658,  0.50688789],\n",
       "       [ 0.20882539,  0.48761491],\n",
       "       [ 0.22689957,  0.52075457],\n",
       "       [ 0.19173225,  0.38676489],\n",
       "       [ 0.2256085 ,  0.52172685],\n",
       "       [ 0.18514344,  0.48761491],\n",
       "       [ 0.19791101,  0.52578741],\n",
       "       [ 0.21749454,  0.52172685],\n",
       "       [ 0.21346263,  0.50878245],\n",
       "       [ 0.19173225,  0.50878245],\n",
       "       [ 0.17820071,  0.42514242],\n",
       "       [ 0.20882539,  0.48761491],\n",
       "       [ 0.22471181,  0.50688789],\n",
       "       [ 0.22745728,  0.52075457],\n",
       "       [ 0.22727618,  0.50688789],\n",
       "       [ 0.22689957,  0.52578741],\n",
       "       [ 0.17096155,  0.45928022],\n",
       "       [ 0.20882539,  0.48761491],\n",
       "       [ 0.20882539,  0.45928022],\n",
       "       [ 0.19791101,  0.48761491],\n",
       "       [ 0.21346263,  0.52172685],\n",
       "       [ 0.22359658,  0.52172685],\n",
       "       [ 0.2256085 ,  0.52172685],\n",
       "       [ 0.21346263,  0.52578741],\n",
       "       [ 0.20362573,  0.50878245],\n",
       "       [ 0.2256085 ,  0.52578741],\n",
       "       [ 0.21930554,  0.50688789],\n",
       "       [ 0.22088326,  0.52172685],\n",
       "       [ 0.22088326,  0.52578741],\n",
       "       [ 0.22088326,  0.52172685],\n",
       "       [ 0.21749454,  0.52172685],\n",
       "       [ 0.20634533,  0.52075457],\n",
       "       [ 0.22359658,  0.52172685],\n",
       "       [ 0.10168492,  0.12263123],\n",
       "       [ 0.17096155,  0.34579251],\n",
       "       [ 0.10913804,  0.26237376],\n",
       "       [ 0.13233128,  0.38676489],\n",
       "       [ 0.1167572 ,  0.22266743],\n",
       "       [ 0.06212774,  0.26237376],\n",
       "       [ 0.20882539,  0.42514242],\n",
       "       [ 0.0806539 ,  0.38676489],\n",
       "       [ 0.1167572 ,  0.38676489],\n",
       "       [ 0.09443324,  0.12263123],\n",
       "       [ 0.17096155,  0.30383656],\n",
       "       [ 0.15582613,  0.34579251],\n",
       "       [ 0.14019543,  0.26237376],\n",
       "       [ 0.17820071,  0.30383656],\n",
       "       [ 0.17096155,  0.15222887],\n",
       "       [ 0.15582613,  0.18571582],\n",
       "       [ 0.14019543,  0.38676489],\n",
       "       [ 0.05658242,  0.22266743],\n",
       "       [ 0.0464769 ,  0.18571582],\n",
       "       [ 0.17820071,  0.48761491],\n",
       "       [ 0.12450281,  0.18571582],\n",
       "       [ 0.18514344,  0.30383656],\n",
       "       [ 0.05658242,  0.30383656],\n",
       "       [ 0.18514344,  0.38676489],\n",
       "       [ 0.12450281,  0.26237376],\n",
       "       [ 0.10168492,  0.38676489],\n",
       "       [ 0.19173225,  0.38676489],\n",
       "       [ 0.18514344,  0.38676489],\n",
       "       [ 0.13233128,  0.26237376],\n",
       "       [ 0.1167572 ,  0.45928022],\n",
       "       [ 0.09443324,  0.34579251],\n",
       "       [ 0.07417499,  0.30383656],\n",
       "       [ 0.13233128,  0.22266743],\n",
       "       [ 0.17096155,  0.48761491],\n",
       "       [ 0.13233128,  0.50878245],\n",
       "       [ 0.09443324,  0.18571582],\n",
       "       [ 0.13233128,  0.15222887],\n",
       "       [ 0.14019543,  0.38676489],\n",
       "       [ 0.19173225,  0.38676489],\n",
       "       [ 0.14804478,  0.26237376],\n",
       "       [ 0.13233128,  0.15222887],\n",
       "       [ 0.17096155,  0.18571582],\n",
       "       [ 0.17096155,  0.34579251],\n",
       "       [ 0.10913804,  0.18571582],\n",
       "       [ 0.12450281,  0.12263123],\n",
       "       [ 0.16348405,  0.18571582],\n",
       "       [ 0.17820071,  0.34579251],\n",
       "       [ 0.16348405,  0.30383656],\n",
       "       [ 0.14804478,  0.18571582],\n",
       "       [ 0.17096155,  0.38676489]])"
      ]
     },
     "execution_count": 140,
     "metadata": {},
     "output_type": "execute_result"
    }
   ],
   "source": [
    "import scipy.stats\n",
    "s= np.std(X,axis=0) #stddev\n",
    "scipy.stats.norm(m,s).pdf(X)"
   ]
  },
  {
   "cell_type": "markdown",
   "metadata": {},
   "source": [
    "#### Task5: Categorical Random Variables.\n",
    "----------------\n",
    "Lets categorize the petal length variable to four categories, i.e very short $\\in[1,1.6]$, short $\\in(1.6,4.4]$, long $\\in(4.4,5.1]$, very long $\\in(5.1,6.9]$ and model this varible using random variable $x$\n",
    "\n",
    "Find the probability of this cateogrical random variable."
   ]
  },
  {
   "cell_type": "code",
   "execution_count": 141,
   "metadata": {
    "collapsed": false,
    "run_control": {
     "breakpoint": false
    }
   },
   "outputs": [
    {
     "name": "stdout",
     "output_type": "stream",
     "text": [
      "Total:  149\n",
      "flowers in each category:\n",
      "\n",
      " VS    S    L    VL\n",
      "[ 43.  35.  37.  34.]\n",
      "\n",
      "Probabilities: \n",
      "\n",
      "very short      short        long       very long\n",
      "[ 0.2885906   0.23489933  0.24832215  0.22818792]\n"
     ]
    }
   ],
   "source": [
    "#Write your code here\n",
    "petal_length= np.array(datalist[0]).T\n",
    "total= np.size(petal_length)\n",
    "pl_class= np.zeros((total,4))\n",
    "\n",
    "pl_class[:,0]= (petal_length>=1) & (petal_length<=1.6)\n",
    "pl_class[:,1]= (petal_length>1.6) & (petal_length<=4.4)\n",
    "pl_class[:,2]= (petal_length>4.4) & (petal_length<=5.1)\n",
    "pl_class[:,3]= (petal_length>5.1) & (petal_length<=6.9)\n",
    "\n",
    "print 'Total: ', total\n",
    "print 'flowers in each category:\\n'\n",
    "print ' VS    S    L    VL' \n",
    "print np.sum(pl_class,axis=0)\n",
    "print\n",
    "print 'Probabilities: \\n'\n",
    "print 'very short      short        long       very long'\n",
    "print np.sum(pl_class,axis=0)/float(total)"
   ]
  },
  {
   "cell_type": "markdown",
   "metadata": {},
   "source": [
    "#### Task6: Categorical Random Variables.\n",
    "Find the mean and covariance matrix of categorical variable $x$."
   ]
  },
  {
   "cell_type": "code",
   "execution_count": 142,
   "metadata": {
    "collapsed": false,
    "run_control": {
     "breakpoint": false
    }
   },
   "outputs": [
    {
     "name": "stdout",
     "output_type": "stream",
     "text": [
      "mean:  [ 0.2885906   0.23489933  0.24832215  0.22818792]\n",
      "Covarinace Matrix: \n",
      "[[ 0.20530607 -0.06778974 -0.07166344 -0.06585289]\n",
      " [-0.06778974  0.17972163 -0.05833071 -0.05360119]\n",
      " [-0.07166344 -0.05833071  0.18665826 -0.05666411]\n",
      " [-0.06585289 -0.05360119 -0.05666411  0.17611819]]\n"
     ]
    }
   ],
   "source": [
    "#Write your code here\n",
    "m=np.mean(pl_class,axis=0)\n",
    "print 'mean: ', m\n",
    "print 'Covarinace Matrix: '\n",
    "print (1/float(total)) * np.dot((pl_class-m).T, (pl_class-m))"
   ]
  },
  {
   "cell_type": "markdown",
   "metadata": {},
   "source": [
    "#### Task7: Categorical Random Variables.\n",
    "\n",
    "If we select 10 random flowers what will be the probability of picking 3 very short length, 2 short length, 4 long length and 1 very long petal length flowers."
   ]
  },
  {
   "cell_type": "code",
   "execution_count": 143,
   "metadata": {
    "collapsed": false,
    "run_control": {
     "breakpoint": false
    }
   },
   "outputs": [
    {
     "name": "stdout",
     "output_type": "stream",
     "text": [
      "prob:  0.0144989025118\n"
     ]
    }
   ],
   "source": [
    "#Write your code here\n",
    "p= (math.factorial(10)/(math.factorial(3)*math.factorial(2)*math.factorial(4)*math.factorial(1)))* np.product(m**[3, 2,  4,  1])\n",
    "print 'prob: ', p"
   ]
  },
  {
   "cell_type": "markdown",
   "metadata": {},
   "source": [
    "#### Task8: Bivariate Categorical Random Variables.\n",
    "----------------\n",
    "Lets also categorize the petal width variable to three categories, i.e short $\\in[0.1,1.0]$, medium  $\\in(1.0,1.75)$, long $\\in(1.75,2.5]$.\n",
    "\n",
    "Now lets model both the petal length and width as bivariate categorical random variable $X$.\n",
    "Find the probability for following cases.\n",
    "\n",
    "$$p(x_1=[1000], x_2=[000])$$\n",
    "$$p(x_1=[1000], x_2=[001])$$\n",
    "\n",
    "$$p(x_1=[0010], x_2=[010])$$\n",
    "$$p(x_1=[0001], x_2=[100])$$\n"
   ]
  },
  {
   "cell_type": "code",
   "execution_count": 151,
   "metadata": {
    "collapsed": false,
    "run_control": {
     "breakpoint": false
    }
   },
   "outputs": [
    {
     "name": "stdout",
     "output_type": "stream",
     "text": [
      "Probabilities:\n",
      "  short          medium       long\n",
      "[ 0.37583893  0.31543624  0.30872483]\n",
      "p(x1=[1000],x2=[100]):0.288590604027\n",
      "p(x1=[1000],x2=[001]):0.0\n",
      "p(x1=[0010],x2=[010]):0.154362416107\n",
      "p(x1=[0001],x2=[100]):0.0\n"
     ]
    }
   ],
   "source": [
    "#Write your code here\n",
    "petal_width= np.array(datalist[1]).T\n",
    "total= np.size(petal_width)\n",
    "pw_class= np.zeros((total,3))\n",
    "\n",
    "pw_class[:,0]= (petal_width>=0.1) & (petal_width<=1.0)\n",
    "pw_class[:,1]= (petal_width>1.0) & (petal_width<=1.75)\n",
    "pw_class[:,2]= (petal_width>1.75) & (petal_width<=2.5)\n",
    "print 'Probabilities:'\n",
    "print '  short          medium       long'\n",
    "print np.sum(pw_class,axis=0)/float(total)\n",
    "\n",
    "print 'p(x1=[1000],x2=[100]):'+ str(np.sum((pl_class[:,0]==1) & (pw_class[:,0]==1))/float(total))\n",
    "print 'p(x1=[1000],x2=[001]):'+ str(np.sum((pl_class[:,0]==1) & (pw_class[:,2]==1))/float(total))\n",
    "print 'p(x1=[0010],x2=[010]):'+ str(np.sum((pl_class[:,2]==1) & (pw_class[:,1]==1))/float(total))\n",
    "print 'p(x1=[0001],x2=[100]):'+ str(np.sum((pl_class[:,3]==1) & (pw_class[:,0]==1))/float(total))"
   ]
  },
  {
   "cell_type": "markdown",
   "metadata": {},
   "source": [
    "#### Task9: Normalization\n",
    "----------------\n",
    "Normalize both the attributes (petal length and petal width) such that after normalization their values must lie in the interval [-2, 5]"
   ]
  },
  {
   "cell_type": "code",
   "execution_count": 145,
   "metadata": {
    "collapsed": false,
    "run_control": {
     "breakpoint": false
    }
   },
   "outputs": [
    {
     "name": "stdout",
     "output_type": "stream",
     "text": [
      "[[-0.66176471 -1.89705882]\n",
      " [-0.76470588 -1.89705882]\n",
      " [-0.55882353 -1.89705882]\n",
      " [-0.66176471 -1.89705882]\n",
      " [-0.35294118 -1.69117647]\n",
      " [-0.66176471 -1.79411765]\n",
      " [-0.55882353 -1.89705882]\n",
      " [-0.66176471 -1.89705882]\n",
      " [-0.55882353 -2.        ]\n",
      " [-0.55882353 -1.89705882]\n",
      " [-0.45588235 -1.89705882]\n",
      " [-0.66176471 -2.        ]\n",
      " [-0.97058824 -2.        ]\n",
      " [-0.86764706 -1.89705882]\n",
      " [-0.55882353 -1.69117647]\n",
      " [-0.76470588 -1.69117647]\n",
      " [-0.66176471 -1.79411765]\n",
      " [-0.35294118 -1.79411765]\n",
      " [-0.55882353 -1.79411765]\n",
      " [-0.35294118 -1.89705882]\n",
      " [-0.55882353 -1.69117647]\n",
      " [-1.07352941 -1.89705882]\n",
      " [-0.35294118 -1.58823529]\n",
      " [-0.14705882 -1.89705882]\n",
      " [-0.45588235 -1.89705882]\n",
      " [-0.45588235 -1.69117647]\n",
      " [-0.55882353 -1.89705882]\n",
      " [-0.66176471 -1.89705882]\n",
      " [-0.45588235 -1.89705882]\n",
      " [-0.45588235 -1.89705882]\n",
      " [-0.55882353 -1.69117647]\n",
      " [-0.55882353 -2.        ]\n",
      " [-0.66176471 -1.89705882]\n",
      " [-0.55882353 -2.        ]\n",
      " [-0.86764706 -1.89705882]\n",
      " [-0.76470588 -1.89705882]\n",
      " [-0.55882353 -2.        ]\n",
      " [-0.76470588 -1.89705882]\n",
      " [-0.55882353 -1.89705882]\n",
      " [-0.76470588 -1.79411765]\n",
      " [-0.76470588 -1.79411765]\n",
      " [-0.76470588 -1.89705882]\n",
      " [-0.45588235 -1.48529412]\n",
      " [-0.14705882 -1.69117647]\n",
      " [-0.66176471 -1.79411765]\n",
      " [-0.45588235 -1.89705882]\n",
      " [-0.66176471 -1.89705882]\n",
      " [-0.55882353 -1.89705882]\n",
      " [-0.66176471 -1.89705882]\n",
      " [ 2.73529412 -0.66176471]\n",
      " [ 2.52941176 -0.55882353]\n",
      " [ 2.94117647 -0.55882353]\n",
      " [ 2.01470588 -0.76470588]\n",
      " [ 2.63235294 -0.55882353]\n",
      " [ 2.52941176 -0.76470588]\n",
      " [ 2.73529412 -0.45588235]\n",
      " [ 1.29411765 -1.07352941]\n",
      " [ 2.63235294 -0.76470588]\n",
      " [ 1.91176471 -0.66176471]\n",
      " [ 1.5        -1.07352941]\n",
      " [ 2.22058824 -0.55882353]\n",
      " [ 2.01470588 -1.07352941]\n",
      " [ 2.73529412 -0.66176471]\n",
      " [ 1.60294118 -0.76470588]\n",
      " [ 2.42647059 -0.66176471]\n",
      " [ 2.52941176 -0.55882353]\n",
      " [ 2.11764706 -1.07352941]\n",
      " [ 2.52941176 -0.55882353]\n",
      " [ 1.91176471 -0.97058824]\n",
      " [ 2.83823529 -0.25      ]\n",
      " [ 2.01470588 -0.76470588]\n",
      " [ 2.94117647 -0.55882353]\n",
      " [ 2.73529412 -0.86764706]\n",
      " [ 2.32352941 -0.76470588]\n",
      " [ 2.42647059 -0.66176471]\n",
      " [ 2.83823529 -0.66176471]\n",
      " [ 3.04411765 -0.35294118]\n",
      " [ 2.52941176 -0.55882353]\n",
      " [ 1.5        -1.07352941]\n",
      " [ 1.80882353 -0.97058824]\n",
      " [ 1.70588235 -1.07352941]\n",
      " [ 1.91176471 -0.86764706]\n",
      " [ 3.14705882 -0.45588235]\n",
      " [ 2.52941176 -0.55882353]\n",
      " [ 2.52941176 -0.45588235]\n",
      " [ 2.73529412 -0.55882353]\n",
      " [ 2.42647059 -0.76470588]\n",
      " [ 2.11764706 -0.76470588]\n",
      " [ 2.01470588 -0.76470588]\n",
      " [ 2.42647059 -0.86764706]\n",
      " [ 2.63235294 -0.66176471]\n",
      " [ 2.01470588 -0.86764706]\n",
      " [ 1.29411765 -1.07352941]\n",
      " [ 2.22058824 -0.76470588]\n",
      " [ 2.22058824 -0.86764706]\n",
      " [ 2.22058824 -0.76470588]\n",
      " [ 2.32352941 -0.76470588]\n",
      " [ 0.98529412 -0.97058824]\n",
      " [ 2.11764706 -0.76470588]\n",
      " [ 4.07352941  0.47058824]\n",
      " [ 3.14705882 -0.14705882]\n",
      " [ 3.97058824  0.05882353]\n",
      " [ 3.66176471 -0.25      ]\n",
      " [ 3.86764706  0.16176471]\n",
      " [ 4.69117647  0.05882353]\n",
      " [ 2.52941176 -0.35294118]\n",
      " [ 4.38235294 -0.25      ]\n",
      " [ 3.86764706 -0.25      ]\n",
      " [ 4.17647059  0.47058824]\n",
      " [ 3.14705882 -0.04411765]\n",
      " [ 3.35294118 -0.14705882]\n",
      " [ 3.55882353  0.05882353]\n",
      " [ 3.04411765 -0.04411765]\n",
      " [ 3.14705882  0.36764706]\n",
      " [ 3.35294118  0.26470588]\n",
      " [ 3.55882353 -0.25      ]\n",
      " [ 4.79411765  0.16176471]\n",
      " [ 5.          0.26470588]\n",
      " [ 3.04411765 -0.55882353]\n",
      " [ 3.76470588  0.26470588]\n",
      " [ 2.94117647 -0.04411765]\n",
      " [ 4.79411765 -0.04411765]\n",
      " [ 2.94117647 -0.25      ]\n",
      " [ 3.76470588  0.05882353]\n",
      " [ 4.07352941 -0.25      ]\n",
      " [ 2.83823529 -0.25      ]\n",
      " [ 2.94117647 -0.25      ]\n",
      " [ 3.66176471  0.05882353]\n",
      " [ 3.86764706 -0.45588235]\n",
      " [ 4.17647059 -0.14705882]\n",
      " [ 4.48529412 -0.04411765]\n",
      " [ 3.66176471  0.16176471]\n",
      " [ 3.14705882 -0.55882353]\n",
      " [ 3.66176471 -0.66176471]\n",
      " [ 4.17647059  0.26470588]\n",
      " [ 3.66176471  0.36764706]\n",
      " [ 3.55882353 -0.25      ]\n",
      " [ 2.83823529 -0.25      ]\n",
      " [ 3.45588235  0.05882353]\n",
      " [ 3.66176471  0.36764706]\n",
      " [ 3.14705882  0.26470588]\n",
      " [ 3.14705882 -0.14705882]\n",
      " [ 3.97058824  0.26470588]\n",
      " [ 3.76470588  0.47058824]\n",
      " [ 3.25        0.26470588]\n",
      " [ 3.04411765 -0.14705882]\n",
      " [ 3.25       -0.04411765]\n",
      " [ 3.45588235  0.26470588]\n",
      " [ 3.14705882 -0.25      ]]\n"
     ]
    }
   ],
   "source": [
    "#Write your code here\n",
    "petal_data= np.array(datalist).T\n",
    "petal_data= petal_data[:,0:2]\n",
    "unit_norm_data= (petal_data- np.min(petal_data))/ (np.max(petal_data) - np.min(petal_data))\n",
    "print (unit_norm_data* 7)-2 "
   ]
  },
  {
   "cell_type": "markdown",
   "metadata": {},
   "source": [
    "#### Task10: Class wise mean vector and covariance matrix...\n",
    "Iris dataset have three different classes, now go and compute the class-wise (setosa, versicolor and virginica) mean vector and covariance matrix."
   ]
  },
  {
   "cell_type": "code",
   "execution_count": 146,
   "metadata": {
    "collapsed": false
   },
   "outputs": [
    {
     "name": "stdout",
     "output_type": "stream",
     "text": [
      "Iris-setosa Mean: \n",
      "[ 1.46530612  0.24489796  5.00408163  3.41632653]\n",
      "Iris-setosa covariance: \n",
      "[[ 0.03002082  0.00563932  0.01626406  0.01179092]\n",
      " [ 0.00563932  0.01145356  0.01063307  0.01151187]\n",
      " [ 0.01626406  0.01063307  0.12406497  0.10013744]\n",
      " [ 0.01179092  0.01151187  0.10013744  0.14503957]]\n",
      "\n",
      "Iris-versicolor Mean: \n",
      "[ 4.26   1.326  5.936  2.77 ]\n",
      "Iris-versicolor covariance: \n",
      "[[ 0.2164    0.07164   0.17924   0.081   ]\n",
      " [ 0.07164   0.038324  0.054664  0.04038 ]\n",
      " [ 0.17924   0.054664  0.261104  0.08348 ]\n",
      " [ 0.081     0.04038   0.08348   0.0965  ]]\n",
      "\n",
      "Iris-virginica Mean: \n",
      "[ 5.552  2.026  6.588  2.974]\n",
      "Iris-virginica covariance: \n",
      "[[ 0.298496  0.047848  0.297224  0.069952]\n",
      " [ 0.047848  0.073924  0.048112  0.046676]\n",
      " [ 0.297224  0.048112  0.396256  0.091888]\n",
      " [ 0.069952  0.046676  0.091888  0.101924]]\n"
     ]
    }
   ],
   "source": [
    "#Write your code here\n",
    "data= np.array(datalist).T\n",
    "cdata= np.array(classlist).T\n",
    "setosa= data[cdata[:,4]== 'Iris-setosa']\n",
    "versicolor= data[cdata[:,4]== 'Iris-versicolor']\n",
    "virginica= data[cdata[:,4]== 'Iris-virginica']\n",
    "setosa_mean= np.mean(setosa,axis=0)\n",
    "X= setosa - setosa_mean\n",
    "total= setosa.shape[0]\n",
    "setosa_cov= (1/ float(total)) * np.dot(X.T,X)\n",
    "print 'Iris-setosa Mean: '\n",
    "print setosa_mean\n",
    "print 'Iris-setosa covariance: '\n",
    "print setosa_cov\n",
    "print \n",
    "\n",
    "versicolor_mean= np.mean(versicolor,axis=0)\n",
    "X= versicolor - versicolor_mean\n",
    "total= versicolor.shape[0]\n",
    "versicolor_cov= (1/ float(total)) * np.dot(X.T,X)\n",
    "print 'Iris-versicolor Mean: '\n",
    "print versicolor_mean\n",
    "print 'Iris-versicolor covariance: '\n",
    "print versicolor_cov\n",
    "print \n",
    "\n",
    "virginica_mean= np.mean(virginica,axis=0)\n",
    "X= virginica - virginica_mean\n",
    "total= virginica.shape[0]\n",
    "virginica_cov= (1/ float(total)) * np.dot(X.T,X)\n",
    "print 'Iris-virginica Mean: '\n",
    "print virginica_mean\n",
    "print 'Iris-virginica covariance: '\n",
    "print virginica_cov\n"
   ]
  },
  {
   "cell_type": "markdown",
   "metadata": {},
   "source": [
    "#### Task11: Caclulating the Probability of a flower belonging to a particular class\n",
    "Using above information, lets model each class to be modeled by continuous multivariate Gaussian Random varible. Now we have recorded a flower with following attributes (sepal lenght=4, petal length=6, sepal width=4, sepal length=5.5) in the field, which class it belongs. "
   ]
  },
  {
   "cell_type": "code",
   "execution_count": 147,
   "metadata": {
    "collapsed": false
   },
   "outputs": [
    {
     "name": "stdout",
     "output_type": "stream",
     "text": [
      "setosa probability:  0.0\n",
      "versicolor probability:  0.0\n",
      "virginica probability:  1.09546635313e-67\n",
      "It belongs to virginica class due to highest probability\n"
     ]
    }
   ],
   "source": [
    "#Write your code here\n",
    "\n",
    "#supposing k=2\n",
    "epsilon= 0.01\n",
    "setosa_det= (setosa_cov[0,0]*setosa_cov[1,1]) - (setosa_cov[0,1] * setosa_cov[1,0])\n",
    "temp= 1/(((2*math.pi)**2) * setosa_det)** 0.5\n",
    "exp=math.exp(-0.5*np.dot(np.dot( ([4, 6 , 4, 5.5]-setosa_mean).T , inv(setosa_cov) ) ,[4, 6 , 4, 5.5]-setosa_mean))\n",
    "guassain_setosa= 2*temp*epsilon*exp \n",
    "print 'setosa probability: ', guassain_setosa\n",
    "\n",
    "versicolor_det= (versicolor_cov[0,0]*versicolor_cov[1,1]) - (versicolor_cov[0,1] * versicolor_cov[1,0])\n",
    "temp= 1/(((2*math.pi)**2) * versicolor_det)** 0.5\n",
    "exp=math.exp(-0.5*np.dot(np.dot( ([4, 6 , 4, 5.5]-versicolor_mean).T , inv(versicolor_cov) ) ,[4, 6 , 4, 5.5]-versicolor_mean))\n",
    "guassain_versicolor= 2*temp*epsilon*exp \n",
    "print 'versicolor probability: ', guassain_versicolor\n",
    "\n",
    "virginica_det= (virginica_cov[0,0]*virginica_cov[1,1]) - (virginica_cov[0,1] * virginica_cov[1,0])\n",
    "temp= 1/(((2*math.pi)**2) * virginica_det)** 0.5\n",
    "exp=math.exp(-0.5*np.dot(np.dot( ([4, 6 , 4, 5.5]-virginica_mean).T , inv(virginica_cov) ) ,[4, 6 , 4, 5.5]-virginica_mean))\n",
    "guassain_virginica= 2*temp*epsilon*exp \n",
    "print 'virginica probability: ', guassain_virginica\n",
    "\n",
    "print \"It belongs to virginica class due to highest probability\""
   ]
  },
  {
   "cell_type": "markdown",
   "metadata": {},
   "source": [
    "\n",
    "#### Task12:  X is a normally distributed variable with mean μ = 30 and standard deviation σ = 4. Find \n",
    "\n",
    "a) P(x < 40)\n",
    "\n",
    "b) P(x > 21)\n",
    "\n",
    "c) P(30 < x < 35)\n",
    "\n",
    "You can use scipy.stats.norm functions to answer these questions. These problems are contributed by an anonymous source."
   ]
  },
  {
   "cell_type": "code",
   "execution_count": 148,
   "metadata": {
    "collapsed": false
   },
   "outputs": [
    {
     "name": "stdout",
     "output_type": "stream",
     "text": [
      "P(x < 40): 0.993790334674\n",
      "P(x > 21): 0.987775527345\n",
      "P(30 < x < 35): 0.394350226333\n"
     ]
    }
   ],
   "source": [
    "#Write your code here\n",
    "print 'P(x < 40): '+str(scipy.stats.norm(30,4).cdf(40))\n",
    "print 'P(x > 21): '+str(1-scipy.stats.norm(30,4).cdf(21))\n",
    "print 'P(30 < x < 35): '+str(scipy.stats.norm(30,4).cdf(35)-scipy.stats.norm(30,4).cdf(30))"
   ]
  },
  {
   "cell_type": "markdown",
   "metadata": {},
   "source": [
    "#### Task13: \n",
    "The time taken to assemble a car in a certain plant is a random variable having a normal distribution with a mean of 20 hours and a standard deviation of 2 hours. What is the probability that a car can be assembled at this plant in:\n",
    "\n",
    "a) less than 19.5 hours?\n",
    "\n",
    "b) between 20 and 22 hours?"
   ]
  },
  {
   "cell_type": "code",
   "execution_count": 149,
   "metadata": {
    "collapsed": false
   },
   "outputs": [
    {
     "name": "stdout",
     "output_type": "stream",
     "text": [
      "less than 19.5 hours: 0.401293674317\n",
      "between 20 and 22 hours: 0.341344746069\n"
     ]
    }
   ],
   "source": [
    "#Write your code here\n",
    "print 'less than 19.5 hours: '+ str(scipy.stats.norm(20,2).cdf(19.5))\n",
    "print 'between 20 and 22 hours: '+str(scipy.stats.norm(20,2).cdf(22)- scipy.stats.norm(20,2).cdf(20))"
   ]
  },
  {
   "cell_type": "markdown",
   "metadata": {},
   "source": [
    "#### Task14:\n",
    "A manufacturer of metal pistons finds that on average, 12% of his pistons are rejected because they are either oversized or undersized. What is the probability that a batch of 10 pistons will contain\n",
    "\n",
    "(a) no more than 2 rejects?\n",
    "\n",
    "(b) at least 2 rejects?"
   ]
  },
  {
   "cell_type": "code",
   "execution_count": 150,
   "metadata": {
    "collapsed": false
   },
   "outputs": [
    {
     "name": "stdout",
     "output_type": "stream",
     "text": [
      "no more than 2 rejects:  0.891318206278\n",
      "at least 2 rejects: 0.108681793722\n"
     ]
    }
   ],
   "source": [
    "#Write your code here\n",
    "prob= ((math.factorial(10)/(math.factorial(0)*math.factorial(10))) * (0.12**0) * ((1-0.12)**10) + \n",
    "       (math.factorial(10)/(math.factorial(1)*math.factorial(9))) * (0.12**1) * ((1-0.12)**9) +\n",
    "       (math.factorial(10)/(math.factorial(2)*math.factorial(8))) * (0.12**2) * ((1-0.12)**8))\n",
    "print 'no more than 2 rejects: ', prob\n",
    "print 'at least 2 rejects: '+str(1-prob)"
   ]
  }
 ],
 "metadata": {
  "kernelspec": {
   "display_name": "Python [Root]",
   "language": "python",
   "name": "Python [Root]"
  },
  "language_info": {
   "codemirror_mode": {
    "name": "ipython",
    "version": 2
   },
   "file_extension": ".py",
   "mimetype": "text/x-python",
   "name": "python",
   "nbconvert_exporter": "python",
   "pygments_lexer": "ipython2",
   "version": "2.7.12"
  }
 },
 "nbformat": 4,
 "nbformat_minor": 0
}
