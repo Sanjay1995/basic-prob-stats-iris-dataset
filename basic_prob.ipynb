{
 "cells": [
  {
   "cell_type": "markdown",
   "metadata": {},
   "source": [
    "## Goal\n",
    "\n",
    "is to implement and refresh the concepts regarding basic probability and statistics using python.\n",
    "\n",
    "**Note** **haven't used any other library (numpy and scipy) whatsoever in this part**."
   ]
  },
  {
   "cell_type": "markdown",
   "metadata": {},
   "source": [
    "#### Hello IPython\n",
    "**So Lets Start**"
   ]
  },
  {
   "cell_type": "code",
   "execution_count": 2,
   "metadata": {
    "collapsed": false,
    "run_control": {
     "breakpoint": false
    }
   },
   "outputs": [
    {
     "name": "stdout",
     "output_type": "stream",
     "text": [
      "IPython version:      4.2.0 (need at least 1.0)\n",
      "Numpy version:        1.13.3 (need at least 1.7.1)\n",
      "SciPy version:        0.18.1 (need at least 0.12.0)\n",
      "Pandas version:       0.18.1 (need at least 0.11.0)\n",
      "Mapltolib version:    1.5.1 (need at least 1.2.1)\n",
      "Scikit-Learn version: 0.18.1 (need at least 0.13.1)\n",
      "requests version:     2.13.0 (need at least 1.2.3)\n",
      "BeautifulSoup version:4.4.1 (need at least 4.0)\n",
      "Seaborn version:      0.7.1 (need at least 0.3.1)\n"
     ]
    }
   ],
   "source": [
    "#Run this notebook to check for the required packages for this course.\n",
    "\n",
    "\n",
    "#IPython is what you are using now to run the notebook\n",
    "import IPython\n",
    "print \"IPython version:      {} (need at least 1.0)\".format(IPython.__version__)\n",
    "\n",
    "# Numpy is a library for working with Arrays\n",
    "import numpy as np\n",
    "print \"Numpy version:        {} (need at least 1.7.1)\".format(np.__version__)\n",
    "\n",
    "# SciPy implements many different numerical algorithms\n",
    "import scipy as sp\n",
    "print \"SciPy version:        {} (need at least 0.12.0)\".format(sp.__version__)\n",
    "\n",
    "# Pandas makes working with data tables easier\n",
    "import pandas as pd\n",
    "print \"Pandas version:       {} (need at least 0.11.0)\".format(pd.__version__)\n",
    "\n",
    "# Module for plotting\n",
    "import matplotlib\n",
    "print \"Mapltolib version:    {} (need at least 1.2.1)\".format(matplotlib.__version__)\n",
    "\n",
    "# SciKit Learn implements several Machine Learning algorithms\n",
    "import sklearn\n",
    "print \"Scikit-Learn version: {} (need at least 0.13.1)\".format(sklearn.__version__)\n",
    "\n",
    "# Requests is a library for getting data from the Web\n",
    "import requests\n",
    "print \"requests version:     {} (need at least 1.2.3)\".format(requests.__version__)\n",
    "\n",
    "#BeautifulSoup is a library to parse HTML and XML documents\n",
    "import bs4\n",
    "print \"BeautifulSoup version:{} (need at least 4.0)\".format(bs4.__version__)\n",
    "\n",
    "\n",
    "#Seaborn is a nice library for visualizations\n",
    "import seaborn\n",
    "print \"Seaborn version:      {} (need at least 0.3.1)\".format(seaborn.__version__)\n"
   ]
  },
  {
   "cell_type": "code",
   "execution_count": null,
   "metadata": {
    "collapsed": false,
    "run_control": {
     "breakpoint": false
    }
   },
   "outputs": [],
   "source": [
    "#Download the IRIS dataset\n",
    "#\"!\" means run the bash (shell) command, if you are unable to download the data, go \n",
    "# to given link and manually download the data and copy it to your current assignment folder...\n",
    "!wget http://archive.ics.uci.edu/ml/machine-learning-databases/iris/iris.data"
   ]
  },
  {
   "cell_type": "code",
   "execution_count": null,
   "metadata": {
    "collapsed": false,
    "run_control": {
     "breakpoint": false
    }
   },
   "outputs": [],
   "source": [
    "#import pandas and name this namespace as pd\n",
    "import pandas as pd"
   ]
  },
  {
   "cell_type": "code",
   "execution_count": 4,
   "metadata": {
    "collapsed": false,
    "run_control": {
     "breakpoint": false
    }
   },
   "outputs": [
    {
     "name": "stdout",
     "output_type": "stream",
     "text": [
      "       SepalLength  SepalWidth  PetalLength  PetalWidth\n",
      "count   149.000000  149.000000   149.000000  149.000000\n",
      "mean      5.848322    3.051007     3.774497    1.205369\n",
      "std       0.828594    0.433499     1.759651    0.761292\n",
      "min       4.300000    2.000000     1.000000    0.100000\n",
      "25%       5.100000    2.800000     1.600000    0.300000\n",
      "50%       5.800000    3.000000     4.400000    1.300000\n",
      "75%       6.400000    3.300000     5.100000    1.800000\n",
      "max       7.900000    4.400000     6.900000    2.500000\n"
     ]
    }
   ],
   "source": [
    "#Load data and name the columns\n",
    "data=pd.read_csv('iris.data')\n",
    "data.columns=['SepalLength','SepalWidth','PetalLength','PetalWidth','Class']\n",
    "print data.describe()"
   ]
  },
  {
   "cell_type": "code",
   "execution_count": 5,
   "metadata": {
    "collapsed": false,
    "run_control": {
     "breakpoint": false
    },
    "scrolled": true
   },
   "outputs": [
    {
     "name": "stdout",
     "output_type": "stream",
     "text": [
      "PetalLength= [1.3999999999999999, 1.3, 1.5, 1.3999999999999999, 1.7, 1.3999999999999999, 1.5, 1.3999999999999999, 1.5, 1.5, 1.6000000000000001, 1.3999999999999999, 1.1000000000000001, 1.2, 1.5, 1.3, 1.3999999999999999, 1.7, 1.5, 1.7, 1.5, 1.0, 1.7, 1.8999999999999999, 1.6000000000000001, 1.6000000000000001, 1.5, 1.3999999999999999, 1.6000000000000001, 1.6000000000000001, 1.5, 1.5, 1.3999999999999999, 1.5, 1.2, 1.3, 1.5, 1.3, 1.5, 1.3, 1.3, 1.3, 1.6000000000000001, 1.8999999999999999, 1.3999999999999999, 1.6000000000000001, 1.3999999999999999, 1.5, 1.3999999999999999, 4.7000000000000002, 4.5, 4.9000000000000004, 4.0, 4.5999999999999996, 4.5, 4.7000000000000002, 3.2999999999999998, 4.5999999999999996, 3.8999999999999999, 3.5, 4.2000000000000002, 4.0, 4.7000000000000002, 3.6000000000000001, 4.4000000000000004, 4.5, 4.0999999999999996, 4.5, 3.8999999999999999, 4.7999999999999998, 4.0, 4.9000000000000004, 4.7000000000000002, 4.2999999999999998, 4.4000000000000004, 4.7999999999999998, 5.0, 4.5, 3.5, 3.7999999999999998, 3.7000000000000002, 3.8999999999999999, 5.0999999999999996, 4.5, 4.5, 4.7000000000000002, 4.4000000000000004, 4.0999999999999996, 4.0, 4.4000000000000004, 4.5999999999999996, 4.0, 3.2999999999999998, 4.2000000000000002, 4.2000000000000002, 4.2000000000000002, 4.2999999999999998, 3.0, 4.0999999999999996, 6.0, 5.0999999999999996, 5.9000000000000004, 5.5999999999999996, 5.7999999999999998, 6.5999999999999996, 4.5, 6.2999999999999998, 5.7999999999999998, 6.0999999999999996, 5.0999999999999996, 5.2999999999999998, 5.5, 5.0, 5.0999999999999996, 5.2999999999999998, 5.5, 6.7000000000000002, 6.9000000000000004, 5.0, 5.7000000000000002, 4.9000000000000004, 6.7000000000000002, 4.9000000000000004, 5.7000000000000002, 6.0, 4.7999999999999998, 4.9000000000000004, 5.5999999999999996, 5.7999999999999998, 6.0999999999999996, 6.4000000000000004, 5.5999999999999996, 5.0999999999999996, 5.5999999999999996, 6.0999999999999996, 5.5999999999999996, 5.5, 4.7999999999999998, 5.4000000000000004, 5.5999999999999996, 5.0999999999999996, 5.0999999999999996, 5.9000000000000004, 5.7000000000000002, 5.2000000000000002, 5.0, 5.2000000000000002, 5.4000000000000004, 5.0999999999999996]\n",
      "PetalWidth= [0.20000000000000001, 0.20000000000000001, 0.20000000000000001, 0.20000000000000001, 0.40000000000000002, 0.29999999999999999, 0.20000000000000001, 0.20000000000000001, 0.10000000000000001, 0.20000000000000001, 0.20000000000000001, 0.10000000000000001, 0.10000000000000001, 0.20000000000000001, 0.40000000000000002, 0.40000000000000002, 0.29999999999999999, 0.29999999999999999, 0.29999999999999999, 0.20000000000000001, 0.40000000000000002, 0.20000000000000001, 0.5, 0.20000000000000001, 0.20000000000000001, 0.40000000000000002, 0.20000000000000001, 0.20000000000000001, 0.20000000000000001, 0.20000000000000001, 0.40000000000000002, 0.10000000000000001, 0.20000000000000001, 0.10000000000000001, 0.20000000000000001, 0.20000000000000001, 0.10000000000000001, 0.20000000000000001, 0.20000000000000001, 0.29999999999999999, 0.29999999999999999, 0.20000000000000001, 0.59999999999999998, 0.40000000000000002, 0.29999999999999999, 0.20000000000000001, 0.20000000000000001, 0.20000000000000001, 0.20000000000000001, 1.3999999999999999, 1.5, 1.5, 1.3, 1.5, 1.3, 1.6000000000000001, 1.0, 1.3, 1.3999999999999999, 1.0, 1.5, 1.0, 1.3999999999999999, 1.3, 1.3999999999999999, 1.5, 1.0, 1.5, 1.1000000000000001, 1.8, 1.3, 1.5, 1.2, 1.3, 1.3999999999999999, 1.3999999999999999, 1.7, 1.5, 1.0, 1.1000000000000001, 1.0, 1.2, 1.6000000000000001, 1.5, 1.6000000000000001, 1.5, 1.3, 1.3, 1.3, 1.2, 1.3999999999999999, 1.2, 1.0, 1.3, 1.2, 1.3, 1.3, 1.1000000000000001, 1.3, 2.5, 1.8999999999999999, 2.1000000000000001, 1.8, 2.2000000000000002, 2.1000000000000001, 1.7, 1.8, 1.8, 2.5, 2.0, 1.8999999999999999, 2.1000000000000001, 2.0, 2.3999999999999999, 2.2999999999999998, 1.8, 2.2000000000000002, 2.2999999999999998, 1.5, 2.2999999999999998, 2.0, 2.0, 1.8, 2.1000000000000001, 1.8, 1.8, 1.8, 2.1000000000000001, 1.6000000000000001, 1.8999999999999999, 2.0, 2.2000000000000002, 1.5, 1.3999999999999999, 2.2999999999999998, 2.3999999999999999, 1.8, 1.8, 2.1000000000000001, 2.3999999999999999, 2.2999999999999998, 1.8999999999999999, 2.2999999999999998, 2.5, 2.2999999999999998, 1.8999999999999999, 2.0, 2.2999999999999998, 1.8]\n",
      "SepalLength= [4.9000000000000004, 4.7000000000000002, 4.5999999999999996, 5.0, 5.4000000000000004, 4.5999999999999996, 5.0, 4.4000000000000004, 4.9000000000000004, 5.4000000000000004, 4.7999999999999998, 4.7999999999999998, 4.2999999999999998, 5.7999999999999998, 5.7000000000000002, 5.4000000000000004, 5.0999999999999996, 5.7000000000000002, 5.0999999999999996, 5.4000000000000004, 5.0999999999999996, 4.5999999999999996, 5.0999999999999996, 4.7999999999999998, 5.0, 5.0, 5.2000000000000002, 5.2000000000000002, 4.7000000000000002, 4.7999999999999998, 5.4000000000000004, 5.2000000000000002, 5.5, 4.9000000000000004, 5.0, 5.5, 4.9000000000000004, 4.4000000000000004, 5.0999999999999996, 5.0, 4.5, 4.4000000000000004, 5.0, 5.0999999999999996, 4.7999999999999998, 5.0999999999999996, 4.5999999999999996, 5.2999999999999998, 5.0, 7.0, 6.4000000000000004, 6.9000000000000004, 5.5, 6.5, 5.7000000000000002, 6.2999999999999998, 4.9000000000000004, 6.5999999999999996, 5.2000000000000002, 5.0, 5.9000000000000004, 6.0, 6.0999999999999996, 5.5999999999999996, 6.7000000000000002, 5.5999999999999996, 5.7999999999999998, 6.2000000000000002, 5.5999999999999996, 5.9000000000000004, 6.0999999999999996, 6.2999999999999998, 6.0999999999999996, 6.4000000000000004, 6.5999999999999996, 6.7999999999999998, 6.7000000000000002, 6.0, 5.7000000000000002, 5.5, 5.5, 5.7999999999999998, 6.0, 5.4000000000000004, 6.0, 6.7000000000000002, 6.2999999999999998, 5.5999999999999996, 5.5, 5.5, 6.0999999999999996, 5.7999999999999998, 5.0, 5.5999999999999996, 5.7000000000000002, 5.7000000000000002, 6.2000000000000002, 5.0999999999999996, 5.7000000000000002, 6.2999999999999998, 5.7999999999999998, 7.0999999999999996, 6.2999999999999998, 6.5, 7.5999999999999996, 4.9000000000000004, 7.2999999999999998, 6.7000000000000002, 7.2000000000000002, 6.5, 6.4000000000000004, 6.7999999999999998, 5.7000000000000002, 5.7999999999999998, 6.4000000000000004, 6.5, 7.7000000000000002, 7.7000000000000002, 6.0, 6.9000000000000004, 5.5999999999999996, 7.7000000000000002, 6.2999999999999998, 6.7000000000000002, 7.2000000000000002, 6.2000000000000002, 6.0999999999999996, 6.4000000000000004, 7.2000000000000002, 7.4000000000000004, 7.9000000000000004, 6.4000000000000004, 6.2999999999999998, 6.0999999999999996, 7.7000000000000002, 6.2999999999999998, 6.4000000000000004, 6.0, 6.9000000000000004, 6.7000000000000002, 6.9000000000000004, 5.7999999999999998, 6.7999999999999998, 6.7000000000000002, 6.7000000000000002, 6.2999999999999998, 6.5, 6.2000000000000002, 5.9000000000000004]\n",
      "SepalWidth= [3.0, 3.2000000000000002, 3.1000000000000001, 3.6000000000000001, 3.8999999999999999, 3.3999999999999999, 3.3999999999999999, 2.8999999999999999, 3.1000000000000001, 3.7000000000000002, 3.3999999999999999, 3.0, 3.0, 4.0, 4.4000000000000004, 3.8999999999999999, 3.5, 3.7999999999999998, 3.7999999999999998, 3.3999999999999999, 3.7000000000000002, 3.6000000000000001, 3.2999999999999998, 3.3999999999999999, 3.0, 3.3999999999999999, 3.5, 3.3999999999999999, 3.2000000000000002, 3.1000000000000001, 3.3999999999999999, 4.0999999999999996, 4.2000000000000002, 3.1000000000000001, 3.2000000000000002, 3.5, 3.1000000000000001, 3.0, 3.3999999999999999, 3.5, 2.2999999999999998, 3.2000000000000002, 3.5, 3.7999999999999998, 3.0, 3.7999999999999998, 3.2000000000000002, 3.7000000000000002, 3.2999999999999998, 3.2000000000000002, 3.2000000000000002, 3.1000000000000001, 2.2999999999999998, 2.7999999999999998, 2.7999999999999998, 3.2999999999999998, 2.3999999999999999, 2.8999999999999999, 2.7000000000000002, 2.0, 3.0, 2.2000000000000002, 2.8999999999999999, 2.8999999999999999, 3.1000000000000001, 3.0, 2.7000000000000002, 2.2000000000000002, 2.5, 3.2000000000000002, 2.7999999999999998, 2.5, 2.7999999999999998, 2.8999999999999999, 3.0, 2.7999999999999998, 3.0, 2.8999999999999999, 2.6000000000000001, 2.3999999999999999, 2.3999999999999999, 2.7000000000000002, 2.7000000000000002, 3.0, 3.3999999999999999, 3.1000000000000001, 2.2999999999999998, 3.0, 2.5, 2.6000000000000001, 3.0, 2.6000000000000001, 2.2999999999999998, 2.7000000000000002, 3.0, 2.8999999999999999, 2.8999999999999999, 2.5, 2.7999999999999998, 3.2999999999999998, 2.7000000000000002, 3.0, 2.8999999999999999, 3.0, 3.0, 2.5, 2.8999999999999999, 2.5, 3.6000000000000001, 3.2000000000000002, 2.7000000000000002, 3.0, 2.5, 2.7999999999999998, 3.2000000000000002, 3.0, 3.7999999999999998, 2.6000000000000001, 2.2000000000000002, 3.2000000000000002, 2.7999999999999998, 2.7999999999999998, 2.7000000000000002, 3.2999999999999998, 3.2000000000000002, 2.7999999999999998, 3.0, 2.7999999999999998, 3.0, 2.7999999999999998, 3.7999999999999998, 2.7999999999999998, 2.7999999999999998, 2.6000000000000001, 3.0, 3.3999999999999999, 3.1000000000000001, 3.0, 3.1000000000000001, 3.1000000000000001, 3.1000000000000001, 2.7000000000000002, 3.2000000000000002, 3.2999999999999998, 3.0, 2.5, 3.0, 3.3999999999999999, 3.0]\n"
     ]
    }
   ],
   "source": [
    "#Code for generating data....\n",
    "datalist=[] #create an empty list\n",
    "# data list is a list of two elements, where index=0 contains data corresponding to petal \n",
    "# length and index=1 contains data corresponding to petal width\n",
    "datalist.append(list(data['PetalLength'].dropna()))\n",
    "datalist.append(list(data['PetalWidth'].dropna()))\n",
    "datalist.append(list(data['SepalLength'].dropna()))\n",
    "datalist.append(list(data['SepalWidth'].dropna()))\n",
    "\n",
    "print \"PetalLength=\", datalist[0]\n",
    "print \"PetalWidth=\", datalist[1]\n",
    "print \"SepalLength=\", datalist[2]\n",
    "print \"SepalWidth=\", datalist[3]\n",
    "\n",
    "#This and above code are both same...\n",
    "# datalist=[0]*2#create a list of 2 elements\n",
    "# datalist[0]=(list(data['PetalLength'].dropna()))\n",
    "# datalist[1]=(list(data['PetalWidth'].dropna()))\n",
    "#data list is a list of two elements, where index=0 contains data corresponding to petal \n",
    "# length and index=1 contains data corresponding to petal width\n",
    "# print(\"PetalLength=\", datalist[0])\n",
    "# print(\"PetalWidth=\", datalist[1])"
   ]
  },
  {
   "cell_type": "markdown",
   "metadata": {},
   "source": [
    "*In all the tasks given below use the list variable `datalist` (defined above) to answer all the questions.*\n",
    "\n",
    "#### Task1\n",
    "----------------\n",
    "code to find the mean and variance of the both the attributes vector (petal length and petal Width) "
   ]
  },
  {
   "cell_type": "code",
   "execution_count": 6,
   "metadata": {
    "collapsed": false,
    "run_control": {
     "breakpoint": false
    }
   },
   "outputs": [
    {
     "name": "stdout",
     "output_type": "stream",
     "text": [
      "3.7744966443\n",
      "1.20536912752\n",
      "3.07559118959\n",
      "0.575675870456\n"
     ]
    }
   ],
   "source": [
    "#Write your code here\n",
    "\n",
    "#petal length mean\n",
    "pl_mean=0.0\n",
    "for x in datalist[0]:\n",
    "    pl_mean+=x\n",
    "pl_mean/=len(datalist[0])\n",
    "\n",
    "#petal width mean\n",
    "pw_mean=0.0\n",
    "for x in datalist[1]:\n",
    "    pw_mean+=x\n",
    "pw_mean/=len(datalist[1])\n",
    "\n",
    "#petal length variance\n",
    "pl_var=0.0\n",
    "for x in datalist[0]:\n",
    "    temp=(x-pl_mean)**2\n",
    "    pl_var+=temp\n",
    "pl_var/=len(datalist[0])\n",
    "\n",
    "#petal width variance\n",
    "pw_var=0.0\n",
    "for x in datalist[1]:\n",
    "    temp=(x-pw_mean)**2\n",
    "    pw_var+=temp\n",
    "pw_var/=len(datalist[1])\n",
    "\n",
    "print pl_mean\n",
    "print pw_mean\n",
    "print pl_var\n",
    "print pw_var"
   ]
  },
  {
   "cell_type": "markdown",
   "metadata": {},
   "source": [
    "#### Task2\n",
    "----------------\n",
    "code to unit normalize both (feature) vectors and compute the cosine similarity among them. Please comment does it make sense to compute the cosine similarity among the feature vectors."
   ]
  },
  {
   "cell_type": "code",
   "execution_count": 7,
   "metadata": {
    "collapsed": false,
    "run_control": {
     "breakpoint": false
    },
    "scrolled": true
   },
   "outputs": [
    {
     "name": "stdout",
     "output_type": "stream",
     "text": [
      "[ 0.06779661  0.05084746  0.08474576  0.06779661  0.11864407  0.06779661\n",
      "  0.08474576  0.06779661  0.08474576  0.08474576  0.10169492  0.06779661\n",
      "  0.01694915  0.03389831  0.08474576  0.05084746  0.06779661  0.11864407\n",
      "  0.08474576  0.11864407  0.08474576  0.          0.11864407  0.15254237\n",
      "  0.10169492  0.10169492  0.08474576  0.06779661  0.10169492  0.10169492\n",
      "  0.08474576  0.08474576  0.06779661  0.08474576  0.03389831  0.05084746\n",
      "  0.08474576  0.05084746  0.08474576  0.05084746  0.05084746  0.05084746\n",
      "  0.10169492  0.15254237  0.06779661  0.10169492  0.06779661  0.08474576\n",
      "  0.06779661  0.62711864  0.59322034  0.66101695  0.50847458  0.61016949\n",
      "  0.59322034  0.62711864  0.38983051  0.61016949  0.49152542  0.42372881\n",
      "  0.54237288  0.50847458  0.62711864  0.44067797  0.57627119  0.59322034\n",
      "  0.52542373  0.59322034  0.49152542  0.6440678   0.50847458  0.66101695\n",
      "  0.62711864  0.55932203  0.57627119  0.6440678   0.6779661   0.59322034\n",
      "  0.42372881  0.47457627  0.45762712  0.49152542  0.69491525  0.59322034\n",
      "  0.59322034  0.62711864  0.57627119  0.52542373  0.50847458  0.57627119\n",
      "  0.61016949  0.50847458  0.38983051  0.54237288  0.54237288  0.54237288\n",
      "  0.55932203  0.33898305  0.52542373  0.84745763  0.69491525  0.83050847\n",
      "  0.77966102  0.81355932  0.94915254  0.59322034  0.89830508  0.81355932\n",
      "  0.86440678  0.69491525  0.72881356  0.76271186  0.6779661   0.69491525\n",
      "  0.72881356  0.76271186  0.96610169  1.          0.6779661   0.79661017\n",
      "  0.66101695  0.96610169  0.66101695  0.79661017  0.84745763  0.6440678\n",
      "  0.66101695  0.77966102  0.81355932  0.86440678  0.91525424  0.77966102\n",
      "  0.69491525  0.77966102  0.86440678  0.77966102  0.76271186  0.6440678\n",
      "  0.74576271  0.77966102  0.69491525  0.69491525  0.83050847  0.79661017\n",
      "  0.71186441  0.6779661   0.71186441  0.74576271  0.69491525]\n",
      "[-0.13559322 -0.13559322 -0.13559322 -0.13559322 -0.10169492 -0.11864407\n",
      " -0.13559322 -0.13559322 -0.15254237 -0.13559322 -0.13559322 -0.15254237\n",
      " -0.15254237 -0.13559322 -0.10169492 -0.10169492 -0.11864407 -0.11864407\n",
      " -0.11864407 -0.13559322 -0.10169492 -0.13559322 -0.08474576 -0.13559322\n",
      " -0.13559322 -0.10169492 -0.13559322 -0.13559322 -0.13559322 -0.13559322\n",
      " -0.10169492 -0.15254237 -0.13559322 -0.15254237 -0.13559322 -0.13559322\n",
      " -0.15254237 -0.13559322 -0.13559322 -0.11864407 -0.11864407 -0.13559322\n",
      " -0.06779661 -0.10169492 -0.11864407 -0.13559322 -0.13559322 -0.13559322\n",
      " -0.13559322  0.06779661  0.08474576  0.08474576  0.05084746  0.08474576\n",
      "  0.05084746  0.10169492  0.          0.05084746  0.06779661  0.\n",
      "  0.08474576  0.          0.06779661  0.05084746  0.06779661  0.08474576\n",
      "  0.          0.08474576  0.01694915  0.13559322  0.05084746  0.08474576\n",
      "  0.03389831  0.05084746  0.06779661  0.06779661  0.11864407  0.08474576\n",
      "  0.          0.01694915  0.          0.03389831  0.10169492  0.08474576\n",
      "  0.10169492  0.08474576  0.05084746  0.05084746  0.05084746  0.03389831\n",
      "  0.06779661  0.03389831  0.          0.05084746  0.03389831  0.05084746\n",
      "  0.05084746  0.01694915  0.05084746  0.25423729  0.15254237  0.18644068\n",
      "  0.13559322  0.20338983  0.18644068  0.11864407  0.13559322  0.13559322\n",
      "  0.25423729  0.16949153  0.15254237  0.18644068  0.16949153  0.23728814\n",
      "  0.22033898  0.13559322  0.20338983  0.22033898  0.08474576  0.22033898\n",
      "  0.16949153  0.16949153  0.13559322  0.18644068  0.13559322  0.13559322\n",
      "  0.13559322  0.18644068  0.10169492  0.15254237  0.16949153  0.20338983\n",
      "  0.08474576  0.06779661  0.22033898  0.23728814  0.13559322  0.13559322\n",
      "  0.18644068  0.23728814  0.22033898  0.15254237  0.22033898  0.25423729\n",
      "  0.22033898  0.15254237  0.16949153  0.22033898  0.13559322]\n",
      "[-0.00083242 -0.00062432 -0.00104053 -0.00083242 -0.00109256 -0.00072837\n",
      " -0.00104053 -0.00083242 -0.0011706  -0.00104053 -0.00124864 -0.00093648\n",
      " -0.00023412 -0.00041621 -0.0007804  -0.00046824 -0.00072837 -0.00127465\n",
      " -0.00091046 -0.00145674 -0.0007804  -0.         -0.00091046 -0.00187295\n",
      " -0.00124864 -0.00093648 -0.00104053 -0.00083242 -0.00124864 -0.00124864\n",
      " -0.0007804  -0.0011706  -0.00083242 -0.0011706  -0.00041621 -0.00062432\n",
      " -0.0011706  -0.00062432 -0.00104053 -0.00054628 -0.00054628 -0.00062432\n",
      " -0.00062432 -0.00140472 -0.00072837 -0.00124864 -0.00083242 -0.00104053\n",
      " -0.00083242  0.00384996  0.00455232  0.00507258  0.00234119  0.00468238\n",
      "  0.00273139  0.00577494  0.          0.00280943  0.00301754  0.\n",
      "  0.00416212  0.          0.00384996  0.00202903  0.0035378   0.00455232\n",
      "  0.          0.00455232  0.00075438  0.00790803  0.00234119  0.00507258\n",
      "  0.00192498  0.00257531  0.0035378   0.00395401  0.00728371  0.00455232\n",
      "  0.          0.00072837  0.          0.00150877  0.00639926  0.00455232\n",
      "  0.00546278  0.00481245  0.00265335  0.00241923  0.00234119  0.0017689\n",
      "  0.00374591  0.00156079  0.          0.00249727  0.00166485  0.00249727\n",
      "  0.00257531  0.00052026  0.00241923  0.01950993  0.00959889  0.01402114\n",
      "  0.00957287  0.01498363  0.01602416  0.00637324  0.01102962  0.00998909\n",
      "  0.01990013  0.01066543  0.01006713  0.01287656  0.0104053   0.0149316\n",
      "  0.0145414   0.00936477  0.01779306  0.01995216  0.00520265  0.01589409\n",
      "  0.01014517  0.01482755  0.00811613  0.01344885  0.0104053   0.00790803\n",
      "  0.00811613  0.0131627   0.00749181  0.01194008  0.01404715  0.01435931\n",
      "  0.00533272  0.00478644  0.01724678  0.01675253  0.00936477  0.00790803\n",
      "  0.01259041  0.01675253  0.01386506  0.00959889  0.01657044  0.01833934\n",
      "  0.01420323  0.00936477  0.01092556  0.01487958  0.00853234]\n"
     ]
    }
   ],
   "source": [
    "#Write your code here\n",
    "import math\n",
    "\n",
    "tempdata1=datalist[0]\n",
    "tempdata2=datalist[1]\n",
    "rang1= max(tempdata1)- min(tempdata1)\n",
    "rang2= max(tempdata2)- min(tempdata2)\n",
    "\n",
    "mi1=min(tempdata1)\n",
    "mi2=min(tempdata2)\n",
    "\n",
    "tempdata1=(tempdata1-mi1)/rang1\n",
    "tempdata2=(tempdata2-mi1)/rang1\n",
    "\n",
    "\n",
    "#cos0= aT * b / ||a|| ||b|| \n",
    "mod_a=0.0\n",
    "mod_b=0.0\n",
    "for x in tempdata1: \n",
    "    temp=x**2\n",
    "    mod_a+=temp\n",
    "    \n",
    "for y in tempdata2:\n",
    "    temp=y**2\n",
    "    mod_b+=temp\n",
    "\n",
    "mod_a**=(1/2.0)\n",
    "mod_b**=(1/2.0)\n",
    "\n",
    "\n",
    "c=[]\n",
    "c= (tempdata1 * tempdata2)/(mod_a*mod_b)\n",
    "\n",
    "print tempdata1   #normalized data\n",
    "print tempdata2\n",
    "\n",
    "#cosine similarity\n",
    "print c"
   ]
  },
  {
   "cell_type": "markdown",
   "metadata": {},
   "source": [
    "#### Task3: Univariate Analysis\n",
    "----------------\n",
    "Lets model the petal length as a univariate bernoulli random variable by categorizing the petal length as short(< 4.9cm) and long(>=4.9cm). Write the code for finding the probability of a short petal length flower."
   ]
  },
  {
   "cell_type": "code",
   "execution_count": 8,
   "metadata": {
    "collapsed": false,
    "run_control": {
     "breakpoint": false
    }
   },
   "outputs": [
    {
     "name": "stdout",
     "output_type": "stream",
     "text": [
      "prob of short petal length:  0.657718120805\n",
      "prob of long petal length:  0.342281879195\n"
     ]
    }
   ],
   "source": [
    "#Write your code here\n",
    "spl=0.0\n",
    "lpl=0.0\n",
    "for x in datalist[0]:\n",
    "    if x<4.9:\n",
    "        spl+=1\n",
    "    elif x>=4.9:\n",
    "        lpl+=1\n",
    "\n",
    "prob_spl=spl/len(datalist[0])\n",
    "prob_lpl=lpl/len(datalist[0])\n",
    "print 'prob of short petal length: ' ,float(prob_spl)\n",
    "print 'prob of long petal length: ' ,float(prob_lpl)"
   ]
  },
  {
   "cell_type": "markdown",
   "metadata": {},
   "source": [
    "#### Task4: Univariate Analysis\n",
    "----------------\n",
    "Lets consider that we randomly choose 20 flower, whats the probability that 15 among them will be short petal lenght ones ?"
   ]
  },
  {
   "cell_type": "code",
   "execution_count": 9,
   "metadata": {
    "collapsed": false,
    "run_control": {
     "breakpoint": false
    }
   },
   "outputs": [
    {
     "name": "stdout",
     "output_type": "stream",
     "text": [
      "prob  0.135818962094\n"
     ]
    }
   ],
   "source": [
    "#Write your code here\n",
    "import math\n",
    "\n",
    "def ncr(n, r):\n",
    "    return math.factorial(n) / ((math.factorial(n-r)) * (math.factorial(r)))\n",
    "\n",
    "spl_15= ncr(20,15)\n",
    "print 'prob ', spl_15 * (prob_spl**15) * (prob_lpl**(5)) #nCr * p^r * q^(n-r)"
   ]
  },
  {
   "cell_type": "markdown",
   "metadata": {},
   "source": [
    "#### Task5: Univariate Analysis\n",
    "----------------\n",
    "Lets model the petal Width as a univariate Bernoulli random variable by categorizing the petal width as short(< 1.6cm) and long(>=1.6cm). Write the code for finding the probability of a short petal width flower."
   ]
  },
  {
   "cell_type": "code",
   "execution_count": 10,
   "metadata": {
    "collapsed": false,
    "run_control": {
     "breakpoint": false
    }
   },
   "outputs": [
    {
     "name": "stdout",
     "output_type": "stream",
     "text": [
      "prob of short petal length:  0.651006711409\n",
      "prob of long petal length:  0.348993288591\n"
     ]
    }
   ],
   "source": [
    "#Write your code here\n",
    "spw=0.0\n",
    "lpw=0.0\n",
    "for x in datalist[1]:\n",
    "    if x<1.6:\n",
    "        spw+=1\n",
    "    elif x>=1.6:\n",
    "        lpw+=1\n",
    "prob_spw=spw/len(datalist[1])\n",
    "prob_lpw=lpw/len(datalist[1])\n",
    "print 'prob of short petal length: ' ,prob_spw\n",
    "print 'prob of long petal length: ' ,prob_lpw"
   ]
  },
  {
   "cell_type": "markdown",
   "metadata": {},
   "source": [
    "#### Task6: Univariate Analysis\n",
    "----------------\n",
    "Lets model the petal length as a univariate continuous Gaussian random variable. What is the probability of seeing a flower with the petal length in the range $\\in [5.6,\\; 5.7]$. Recall that a gaussian pdf is\n",
    "$$f(x) = \\frac{1}{\\sigma \\sqrt{2\\pi} } e^{ -\\frac{(x-\\mu)^2}{2\\sigma^2} }$$"
   ]
  },
  {
   "cell_type": "code",
   "execution_count": 11,
   "metadata": {
    "collapsed": false,
    "run_control": {
     "breakpoint": false
    }
   },
   "outputs": [
    {
     "name": "stdout",
     "output_type": "stream",
     "text": [
      "0.0128409555708\n"
     ]
    }
   ],
   "source": [
    "#Write your code here, use summation instmathead of integral, \n",
    "# you are not authorized to use scipy.stats function for this and later parts...\n",
    "\n",
    "import math\n",
    "\n",
    "temp=2*math.pi\n",
    "fx=(1/(math.pow(pl_var,0.5) * math.pow(temp,0.5))) * math.exp(-(5.65-pl_mean)**2/(2*pl_var))\n",
    "area=2*fx*0.05\n",
    "\n",
    "print area"
   ]
  },
  {
   "cell_type": "markdown",
   "metadata": {},
   "source": [
    "#### Task7: Univariate Analysis\n",
    "----------------\n",
    "Lets model the petal length as a univariate continuous Gaussian random variable. What is the relative probability of seeing a flower with the petal length 5.4 to a flower with petal length 3.9."
   ]
  },
  {
   "cell_type": "code",
   "execution_count": 12,
   "metadata": {
    "collapsed": false,
    "run_control": {
     "breakpoint": false
    }
   },
   "outputs": [
    {
     "name": "stdout",
     "output_type": "stream",
     "text": [
      "0.251676127032\n",
      "0.385729276101\n"
     ]
    }
   ],
   "source": [
    "#Write your code here\n",
    "import math\n",
    "\n",
    "temp=2*math.pi\n",
    "\n",
    "fx1=(1/(math.pow(pl_var,0.5) * math.pow(temp,0.5))) * math.exp(-(5.4-pl_mean)**2/(2*pl_var))\n",
    "fx2=(1/(math.pow(pl_var,0.5) * math.pow(temp,0.5))) * math.exp(-(3.9-pl_mean)**2/(2*pl_var))\n",
    "\n",
    "area1=2*fx1*0.85\n",
    "area2=2*fx2*0.85\n",
    "\n",
    "print area1\n",
    "print area2"
   ]
  },
  {
   "cell_type": "markdown",
   "metadata": {},
   "source": [
    "#### Task8: Univariate Analysis\n",
    "function to build a histogarm of the given feature vector (list). Your function should receive two arguments a feature vector (a list) and number of bins and return the built histogram. "
   ]
  },
  {
   "cell_type": "code",
   "execution_count": 13,
   "metadata": {
    "collapsed": false,
    "run_control": {
     "breakpoint": false
    }
   },
   "outputs": [],
   "source": [
    "%matplotlib inline\n",
    "def buildHistogram(feature, nbins):\n",
    "    \"\"\" Histogram the feature into number of bins \"\"\"\n",
    "    #Write your code here\n",
    "\n",
    "    lis=[]\n",
    "    for i in range(0,nbins):\n",
    "        lis[i]=0\n",
    "        \n",
    "    rang=max(feature)-min(feature)\n",
    "    bwidth=rang/nbins\n",
    "    \n",
    "    for x in feature:\n",
    "        bindex=(x-min(feature))/bwidth\n",
    "        lis[bindex]+=1\n",
    "    return lis\n"
   ]
  },
  {
   "cell_type": "markdown",
   "metadata": {},
   "source": [
    "#### Task9: Univariate Analysis\n",
    "function that returns a list containing all the four quantile of the given feature vector."
   ]
  },
  {
   "cell_type": "code",
   "execution_count": 14,
   "metadata": {
    "collapsed": false,
    "run_control": {
     "breakpoint": false
    }
   },
   "outputs": [
    {
     "data": {
      "text/plain": [
       "[1.3, 4.4000000000000004, 5.5, 5.0999999999999996]"
      ]
     },
     "execution_count": 14,
     "metadata": {},
     "output_type": "execute_result"
    }
   ],
   "source": [
    "def getQuantile(features):\n",
    "    \"\"\" Function returns the four quantile of the given feature vector in a list \"\"\"    \n",
    "    \n",
    "    sorted(features)\n",
    "    quartile=[0]*4\n",
    "    q1=int((0.25)*len(features))\n",
    "    quartile[0]=features[q1]\n",
    "    \n",
    "    q2=int((0.5)*len(features))\n",
    "    quartile[1]=features[q2]\n",
    "    \n",
    "    q3=int((0.75)*len(features))\n",
    "    quartile[2]=features[q3]\n",
    "    \n",
    "    q4=int(len(features)-1)\n",
    "    quartile[3]=features[q4]\n",
    "    #Write your code here    \n",
    "    return quartile\n",
    "getQuantile(datalist[0])"
   ]
  },
  {
   "cell_type": "markdown",
   "metadata": {},
   "source": [
    "#### Task10: Univariate Analysis\n",
    "Find the outliers in the features petal length and width. Comment on how you have decided on the features which are outliers."
   ]
  },
  {
   "cell_type": "code",
   "execution_count": 17,
   "metadata": {
    "collapsed": false,
    "run_control": {
     "breakpoint": false
    }
   },
   "outputs": [
    {
     "name": "stdout",
     "output_type": "stream",
     "text": [
      "[1.1000000000000001, 1.0, 2.5, 6.5999999999999996, 2.5, 2.3999999999999999, 6.7000000000000002, 6.9000000000000004, 6.7000000000000002, 2.3999999999999999, 2.3999999999999999, 2.5]\n"
     ]
    }
   ],
   "source": [
    "#Write your code here  \n",
    "std_pl = pl_var**(0.5) \n",
    "std_pw = pw_var**(0.5)\n",
    "\n",
    "pl_lim1=pl_mean+1.5*std_pl\n",
    "pl_lim2=pl_mean-1.5*std_pl\n",
    "\n",
    "pw_lim1=pw_mean+1.5*std_pw\n",
    "pw_lim2=pw_mean-1.5*std_pw\n",
    "\n",
    "outliers=[]\n",
    "\n",
    "for x,y in zip(datalist[0],datalist[1]):\n",
    "    if((x < pl_lim2) | (x > pl_lim1)):\n",
    "        outliers.append(x)\n",
    "    if((y < pw_lim2) | (y > pw_lim1)):\n",
    "        outliers.append(y)\n",
    "\n",
    "print outliers"
   ]
  },
  {
   "cell_type": "markdown",
   "metadata": {},
   "source": [
    "#### Task11: Multivariate Analysis\n",
    "Lets model the petal length and width as a bivariate Bernoulli random variable by categorizing the petal length (< 4.9cm) and petal width as short(< 1.6cm) and vice versa. Suppose that petal length is represented by random variable $x$ and petal width by random variable $y$. Now write the code for finding the probability of following cases:\n",
    "$$P(x=0, y=0)= ?$$\n",
    "$$P(x=0, y=1)= ?$$\n",
    "$$P(x=1, y=0)= ?$$\n",
    "$$P(x=1, y=1)= ?$$\n",
    "\n",
    "Here $x=0$ represent the flowers with short petal length and $x=1$ represent the flower with long petal length..\n"
   ]
  },
  {
   "cell_type": "code",
   "execution_count": 18,
   "metadata": {
    "collapsed": false,
    "run_control": {
     "breakpoint": false
    }
   },
   "outputs": [
    {
     "name": "stdout",
     "output_type": "stream",
     "text": [
      "p1:  0.154362416107\n",
      "p2:  0.0167785234899\n",
      "p3:  0.0201342281879\n",
      "p4:  0.308724832215\n"
     ]
    }
   ],
   "source": [
    "#Write your code here  \n",
    "x1=0\n",
    "x2=0\n",
    "x3=0\n",
    "x4=0\n",
    "total= float(len(datalist[0]) + len(datalist[1]))\n",
    "\n",
    "for x,y in zip(datalist[0],datalist[1]):\n",
    "    if((x>=4.9) & (y>=1.6)):\n",
    "        x1+=1\n",
    "    elif((x>=4.9) & (y<1.6)):\n",
    "        x2+=1\n",
    "    elif((x<4.9) & (y>=1.6)):\n",
    "        x3+=1\n",
    "    elif((x<4.9) & (y<1.6)):\n",
    "        x4+=1\n",
    "\n",
    "print 'p1: ', x1/total\n",
    "print 'p2: ', x2/total\n",
    "print 'p3: ', x3/total\n",
    "print 'p4: ', x4/total"
   ]
  },
  {
   "cell_type": "markdown",
   "metadata": {},
   "source": [
    "#### Task12: Multivariate Analysis\n",
    "What will be probability of seeing of flower with long petal length ? Find the result using marginalization principle."
   ]
  },
  {
   "cell_type": "code",
   "execution_count": 19,
   "metadata": {
    "collapsed": false,
    "run_control": {
     "breakpoint": false
    }
   },
   "outputs": [
    {
     "name": "stdout",
     "output_type": "stream",
     "text": [
      "prob  0.174496644295\n"
     ]
    }
   ],
   "source": [
    "u1=0\n",
    "u2=0\n",
    "u3=0\n",
    "u4=0\n",
    "for x,y in zip(datalist[0],datalist[1]):\n",
    "    if((x>=4.9) & (y>=1.6)):\n",
    "        u1+=1\n",
    "    elif((x<4.9) & (y>=1.6)):\n",
    "        u2+=1\n",
    "    elif((x>=4.9) & (y<1.6)):\n",
    "        u3+=1\n",
    "    elif((x<4.9) & (y<1.6)):\n",
    "        u4+=1\n",
    "    \n",
    "print 'prob ' , (u1+u2)/total"
   ]
  },
  {
   "cell_type": "markdown",
   "metadata": {},
   "source": [
    "#### Task13: Multivariate Analysis\n",
    "Lets model the sepal length, sepal width, petal length and width as a multivariate Bernoulli random variable by categorizing the sepal length  as (short< 7.1cm), sepal width (short< 3.1cm), petal length (short< 4.9cm) and petal width (short< 1.6cm) and vice versa. Suppose that all four measures are represented by random variables $x_1, x_2, x_3, x_4$ respectively. Now write the code for finding the probability of the following cases:\n",
    "$$p(x_1=1, x_2=1, x_3=0, x_4=1)$$\n",
    "$$p(x_1=0, x_2=1, x_3=0, x_4=1)$$\n",
    "$$p(x_1=0, x_2=0, x_3=0, x_4=1)$$\n",
    "$$p(x_1=1, x_2=1, x_3=1, x_4=1)$$\n",
    "\n",
    "Here $x_i=0$ represent the flowers with short featuers and $x_i=1$ represent the flower with long feature.\n"
   ]
  },
  {
   "cell_type": "code",
   "execution_count": 20,
   "metadata": {
    "collapsed": false,
    "run_control": {
     "breakpoint": false
    }
   },
   "outputs": [
    {
     "name": "stdout",
     "output_type": "stream",
     "text": [
      "p1:  0.0\n",
      "p2:  0.00503355704698\n",
      "p3:  0.00503355704698\n",
      "p4:  0.00671140939597\n"
     ]
    }
   ],
   "source": [
    "#Write your code here\n",
    "p1=0\n",
    "p2=0\n",
    "p3=0\n",
    "p4=0\n",
    "total+=len(datalist[2]) + len(datalist[3])\n",
    "for x1,x2,x3,x4 in zip(datalist[2],datalist[3],datalist[0],datalist[1]):\n",
    "    if((x1 >= 7.1) & (x2 >= 3.1) & (x3 < 4.9 ) & (x4 >= 1.6)):\n",
    "        p1+=1\n",
    "    elif((x1 < 7.1) & (x2 >= 3.1) & (x3 < 4.9 ) & (x4 >= 1.6)):\n",
    "        p2+=1\n",
    "    elif((x1 < 7.1) & (x2 < 3.1) & (x3 < 4.9 ) & (x4 >= 1.6)):\n",
    "        p3+=1\n",
    "    elif((x1 >= 7.1) & (x2 >= 3.1) & (x3 >= 4.9 ) & (x4 >= 1.6)):\n",
    "        p4+=1\n",
    "print 'p1: ', p1/total\n",
    "print 'p2: ', p2/total\n",
    "print 'p3: ', p3/total\n",
    "print 'p4: ', p4/total"
   ]
  },
  {
   "cell_type": "markdown",
   "metadata": {},
   "source": [
    "#### Task14: Multivariate Analysis\n",
    "Find the following probabilities using marginalization principle:\n",
    "$$p(x_1=1, x_2=1,  x_4=1)$$\n",
    "$$p(x_1=0, x_4=1)$$"
   ]
  },
  {
   "cell_type": "code",
   "execution_count": 21,
   "metadata": {
    "collapsed": false,
    "run_control": {
     "breakpoint": false
    }
   },
   "outputs": [
    {
     "name": "stdout",
     "output_type": "stream",
     "text": [
      "p1:  0.00671140939597\n",
      "p2:  0.0671140939597\n"
     ]
    }
   ],
   "source": [
    "#Write your code here\n",
    "p1=0\n",
    "p2=0\n",
    "for x1,x2,x3,x4 in zip(datalist[2],datalist[3],datalist[0],datalist[1]):\n",
    "    if((x1 >= 7.1) & (x2 >= 3.1) & (x4 >= 1.6)):\n",
    "        p1+=1\n",
    "    elif((x1 < 7.1) & (x4 >= 1.6)):\n",
    "        p2+=1\n",
    "\n",
    "print 'p1: ', p1/total\n",
    "print 'p2: ', p2/total        "
   ]
  }
 ],
 "metadata": {
  "kernelspec": {
   "display_name": "Python [Root]",
   "language": "python",
   "name": "Python [Root]"
  },
  "language_info": {
   "codemirror_mode": {
    "name": "ipython",
    "version": 2
   },
   "file_extension": ".py",
   "mimetype": "text/x-python",
   "name": "python",
   "nbconvert_exporter": "python",
   "pygments_lexer": "ipython2",
   "version": "2.7.12"
  }
 },
 "nbformat": 4,
 "nbformat_minor": 0
}
